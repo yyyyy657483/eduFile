{
  "cells": [
    {
      "cell_type": "markdown",
      "metadata": {},
      "source": [
        "## 오차 역전파법  \n",
        "MNIST 숫자 데이터를 인식하고 검증하는 코드를 구현해 보자"
      ]
    },
    {
      "cell_type": "code",
      "execution_count": null,
      "metadata": {
        "gather": {
          "logged": 1720081926684
        }
      },
      "outputs": [],
      "source": [
        "import os, sys\n",
        "print(os.getcwd())\n",
        "current_dir = os.path.dirname(os.getcwd())\n",
        "print(current_dir)\n",
        "os.chdir(current_dir)\n",
        "\n",
        "import numpy as np\n",
        "import matplotlib.pyplot as plt\n",
        "from dataset.mnist import load_mnist\n",
        "from ch04.two_layer_net import TwoLayerNet"
      ]
    },
    {
      "cell_type": "code",
      "execution_count": 2,
      "metadata": {},
      "outputs": [
        {
          "name": "stdout",
          "output_type": "stream",
          "text": [
            "0 train acc, test acc | 0.0993, 0.1033\n",
            "600 train acc, test acc | 0.9542166666666667, 0.9511\n",
            "1200 train acc, test acc | 0.9713833333333334, 0.9649\n",
            "1800 train acc, test acc | 0.9801333333333333, 0.9729\n",
            "2400 train acc, test acc | 0.98275, 0.9724\n",
            "3000 train acc, test acc | 0.9836333333333334, 0.9733\n",
            "3600 train acc, test acc | 0.98895, 0.9777\n",
            "4200 train acc, test acc | 0.9911, 0.9769\n",
            "4800 train acc, test acc | 0.99175, 0.9785\n",
            "5400 train acc, test acc | 0.9938833333333333, 0.9794\n",
            "6000 train acc, test acc | 0.9949166666666667, 0.9793\n",
            "6600 train acc, test acc | 0.9959333333333333, 0.9772\n",
            "7200 train acc, test acc | 0.9970333333333333, 0.9789\n",
            "7800 train acc, test acc | 0.9972, 0.9792\n",
            "8400 train acc, test acc | 0.9965166666666667, 0.9787\n",
            "9000 train acc, test acc | 0.9974666666666666, 0.98\n",
            "9600 train acc, test acc | 0.99895, 0.98\n",
            "10200 train acc, test acc | 0.9989, 0.9797\n",
            "10800 train acc, test acc | 0.9994666666666666, 0.98\n",
            "11400 train acc, test acc | 0.9996166666666667, 0.9803\n",
            "12000 train acc, test acc | 0.9998, 0.9807\n",
            "12600 train acc, test acc | 0.9996333333333334, 0.98\n",
            "13200 train acc, test acc | 0.9998666666666667, 0.9814\n",
            "13800 train acc, test acc | 0.99995, 0.9808\n",
            "14400 train acc, test acc | 0.9999666666666667, 0.9806\n",
            "15000 train acc, test acc | 0.9999666666666667, 0.9804\n",
            "15600 train acc, test acc | 0.99995, 0.9807\n",
            "16200 train acc, test acc | 0.9999666666666667, 0.9818\n",
            "16800 train acc, test acc | 0.9999833333333333, 0.9809\n",
            "17400 train acc, test acc | 0.9999833333333333, 0.9813\n",
            "18000 train acc, test acc | 1.0, 0.9811\n",
            "18600 train acc, test acc | 1.0, 0.9802\n",
            "19200 train acc, test acc | 1.0, 0.9809\n",
            "19800 train acc, test acc | 0.9999833333333333, 0.9806\n",
            "hidden_size: 150\n",
            "iters_num: 20000\n",
            "learning_rate: 0.5\n"
          ]
        },
        {
          "data": {
            "image/png": "[encoded data removed]",
            "text/plain": [
              "<Figure size 640x480 with 1 Axes>"
            ]
          },
          "metadata": {},
          "output_type": "display_data"
        }
      ],
      "source": [
        "(x_train, t_train), (x_test, t_test) = load_mnist(normalize=True, one_hot_label=True)\n",
        "hidden_size = 150\n",
        "network = TwoLayerNet(input_size=784, hidden_size=hidden_size, output_size=10)\n",
        "\n",
        "iters_num = 20000\n",
        "train_size = x_train.shape[0]\n",
        "batch_size = 100\n",
        "learning_rate = 0.5\n",
        "\n",
        "train_loss_list = []\n",
        "train_acc_list = []\n",
        "test_acc_list = []\n",
        "\n",
        "iter_per_epoch = max(train_size / batch_size, 1)\n",
        "\n",
        "for i in range(iters_num):\n",
        "    batch_mask = np.random.choice(train_size, batch_size)\n",
        "    x_batch = x_train[batch_mask]\n",
        "    t_batch = t_train[batch_mask]\n",
        "\n",
        "    grad = network.gradient(x_batch, t_batch)\n",
        "\n",
        "    for key in ('W1', 'b1', 'W2', 'b2'):\n",
        "        network.params[key] -= learning_rate * grad[key]\n",
        "\n",
        "    loss = network.loss(x_batch, t_batch)\n",
        "    train_loss_list.append(loss)\n",
        "\n",
        "    if i%iter_per_epoch == 0:\n",
        "        train_acc = network.accuracy(x_train, t_train)\n",
        "        test_acc = network.accuracy(x_test, t_test)\n",
        "        train_acc_list.append(train_acc)\n",
        "        test_acc_list.append(test_acc)\n",
        "        print(i, \"train acc, test acc | \" + str(train_acc) + \", \" + str(test_acc))\n",
        "\n",
        "\n",
        "print(\"hidden_size:\",hidden_size)\n",
        "print(\"iters_num:\",iters_num)\n",
        "print(\"learning_rate:\",learning_rate)\n",
        "\n",
        "markers = {'train': 'o', 'test': 's'}\n",
        "x = np.arange(len(train_acc_list))\n",
        "\n",
        "plt.plot(x, train_acc_list, label='train acc')\n",
        "plt.plot(x, test_acc_list, label='test acc', linestyle='--')\n",
        "plt.xlabel(\"epochs\")\n",
        "plt.ylabel(\"accuracy\")\n",
        "plt.ylim(0, 1.0)\n",
        "plt.legend(loc='lower right')\n",
        "plt.show()"
      ]
    }
  ],
  "metadata": {
    "kernel_info": {
      "name": "python310-sdkv2"
    },
    "kernelspec": {
      "display_name": "Python 3",
      "language": "python",
      "name": "python3"
    },
    "language_info": {
      "codemirror_mode": {
        "name": "ipython",
        "version": 3
      },
      "file_extension": ".py",
      "mimetype": "text/x-python",
      "name": "python",
      "nbconvert_exporter": "python",
      "pygments_lexer": "ipython3",
      "version": "3.11.9"
    },
    "microsoft": {
      "host": {
        "AzureML": {
          "notebookHasBeenCompleted": true
        }
      }
    },
    "nteract": {
      "version": "nteract-front-end@1.0.0"
    }
  },
  "nbformat": 4,
  "nbformat_minor": 2
}
