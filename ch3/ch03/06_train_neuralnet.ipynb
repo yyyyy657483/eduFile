{
  "cells": [
    {
      "cell_type": "markdown",
      "metadata": {},
      "source": [
        "## 신경망 학습  \n",
        "MNIST 숫자 데이터를 인식하고 검증하는 코드를 구현해 보자"
      ]
    },
    {
      "cell_type": "code",
      "execution_count": null,
      "metadata": {},
      "outputs": [],
      "source": [
        "import os, sys, time\n",
        "print(os.getcwd())\n",
        "current_dir = os.path.dirname(os.getcwd())\n",
        "print(current_dir)\n",
        "os.chdir(current_dir)\n",
        "\n",
        "import numpy as np\n",
        "import matplotlib.pyplot as plt\n",
        "from dataset.mnist import load_mnist\n",
        "from ch03.two_layer_net import TwoLayerNet"
      ]
    },
    {
      "cell_type": "code",
      "execution_count": 4,
      "metadata": {
        "gather": {
          "logged": 1720078832601
        }
      },
      "outputs": [
        {
          "name": "stdout",
          "output_type": "stream",
          "text": [
            "0 train acc, test acc | 0.09871666666666666, 0.098\n",
            "600 train acc, test acc | 0.9085833333333333, 0.9115\n",
            "1200 train acc, test acc | 0.931, 0.9314\n",
            "1800 train acc, test acc | 0.9436833333333333, 0.9426\n",
            "2400 train acc, test acc | 0.9510333333333333, 0.9486\n",
            "3000 train acc, test acc | 0.9567, 0.9539\n",
            "3600 train acc, test acc | 0.9622166666666667, 0.9586\n",
            "4200 train acc, test acc | 0.96535, 0.961\n",
            "4800 train acc, test acc | 0.96815, 0.962\n",
            "5400 train acc, test acc | 0.9704, 0.9652\n",
            "6000 train acc, test acc | 0.9721333333333333, 0.9653\n",
            "6600 train acc, test acc | 0.9751666666666666, 0.9671\n",
            "7200 train acc, test acc | 0.97605, 0.968\n",
            "7800 train acc, test acc | 0.9771, 0.9687\n",
            "8400 train acc, test acc | 0.9784666666666667, 0.9697\n",
            "9000 train acc, test acc | 0.9794333333333334, 0.97\n",
            "9600 train acc, test acc | 0.9801833333333333, 0.971\n",
            "run time:  15.39546 sec\n"
          ]
        },
        {
          "data": {
            "image/png": "[encoded data removed]",
            "text/plain": [
              "<Figure size 640x480 with 1 Axes>"
            ]
          },
          "metadata": {},
          "output_type": "display_data"
        }
      ],
      "source": [
        "start_time = time.time()\n",
        "(x_train, t_train), (x_test, t_test) = load_mnist(normalize=True, one_hot_label=True)\n",
        "\n",
        "# 히든 사이즈 따라서 다르긴 하다 -> 많을수록 시간이 오래 걸리고 적을수록 학습률이 낮아짐 \n",
        "network = TwoLayerNet(input_size=784, hidden_size=50, output_size=10)\n",
        "\n",
        "# 하이퍼 파라미터 세팅\n",
        "iters_num = 10000   # 이터레이트 넘버\n",
        "train_size = x_train.shape[0]\n",
        "batch_size = 100\n",
        "learning_rate = 0.5 # 학습률\n",
        "\n",
        "train_loss_list = []\n",
        "train_acc_list = []\n",
        "test_acc_list = []\n",
        "\n",
        "iter_per_epoch = max(train_size / batch_size, 1)\n",
        "train_acc = 0\n",
        "test_acc = 0\n",
        "\n",
        "for i in range(iters_num):\n",
        "    # 미니배치 획득\n",
        "    # train_size 6만개 중 랜덤 100개를 뽑아 배치를 구성\n",
        "    batch_mask = np.random.choice(train_size, batch_size)\n",
        "    x_batch = x_train[batch_mask]\n",
        "    t_batch = t_train[batch_mask]\n",
        "\n",
        "    # 기울기 계산\n",
        "    # grad = network.numerical_gradient(x_batch,t_batch) # 수치미분\n",
        "    grad = network.gradient(x_batch, t_batch) # 역전파법\n",
        "\n",
        "    # 매개변수 갱신\n",
        "    for key in ('W1', 'b1', 'W2', 'b2'):\n",
        "        network.params[key] -= learning_rate * grad[key]\n",
        "\n",
        "    # 학습 경과 기록\n",
        "    loss = network.loss(x_batch, t_batch)\n",
        "    train_loss_list.append(loss)\n",
        "\n",
        "    # 1 에폭당 정확도 계산\n",
        "    if i%iter_per_epoch == 0:\n",
        "        # train 데이터에 대한 정확도(6만장)\n",
        "        train_acc = network.accuracy(x_train, t_train)\n",
        "        # test 1만장에 대한 정확도 계산\n",
        "        test_acc = network.accuracy(x_test, t_test)        \n",
        "        train_acc_list.append(train_acc)\n",
        "        test_acc_list.append(test_acc)\n",
        "        print(i, \"train acc, test acc | \" + str(train_acc) + \", \" + str(test_acc))\n",
        "# print(\"train acc, test acc | \" + str(train_acc) + \", \" + str(test_acc))\n",
        "\n",
        "end_time = time.time()\n",
        "print(f'run time: {end_time - start_time: .5f} sec')\n",
        "\n",
        "markers = {'train': 'o', 'test': 's'}\n",
        "x = np.arange(len(train_acc_list))\n",
        "\n",
        "plt.plot(x, train_acc_list, label='train acc')\n",
        "plt.plot(x, test_acc_list, label='test acc', linestyle='--')\n",
        "plt.xlabel(\"epochs\")\n",
        "plt.ylabel(\"accuracy\")\n",
        "plt.ylim(0, 1.0)\n",
        "plt.legend(loc='lower right')\n",
        "plt.show()"
      ]
    }
  ],
  "metadata": {
    "kernel_info": {
      "name": "python310-sdkv2"
    },
    "kernelspec": {
      "display_name": "Python 3",
      "language": "python",
      "name": "python3"
    },
    "language_info": {
      "codemirror_mode": {
        "name": "ipython",
        "version": 3
      },
      "file_extension": ".py",
      "mimetype": "text/x-python",
      "name": "python",
      "nbconvert_exporter": "python",
      "pygments_lexer": "ipython3",
      "version": "3.11.9"
    },
    "microsoft": {
      "host": {
        "AzureML": {
          "notebookHasBeenCompleted": true
        }
      }
    },
    "nteract": {
      "version": "nteract-front-end@1.0.0"
    }
  },
  "nbformat": 4,
  "nbformat_minor": 2
}
