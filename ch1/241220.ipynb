{
 "cells": [
  {
   "cell_type": "markdown",
   "metadata": {},
   "source": [
    "# 2024.12.20  \n",
    "사용한 모듈:   random"
   ]
  },
  {
   "cell_type": "markdown",
   "metadata": {},
   "source": [
    "### 떠올리기1"
   ]
  },
  {
   "cell_type": "code",
   "execution_count": null,
   "metadata": {},
   "outputs": [
    {
     "name": "stdout",
     "output_type": "stream",
     "text": [
      "이름을 입력하세요:  해리\n",
      "방문 횟수를 입력하세요:  10\n",
      "\n",
      "해리님 안녕하세요?\n",
      "오늘로 11회 방문하셨어요.\n"
     ]
    }
   ],
   "source": [
    "name = input(\"이름을 입력하세요: \")\n",
    "count = int(input(\"방문 횟수를 입력하세요: \"))\n",
    "\n",
    "print(\"이름을 입력하세요: \", name)\n",
    "print(\"방문 횟수를 입력하세요: \", count)\n",
    "\n",
    "count += 1\n",
    "\n",
    "print(f\"\\n{name}님 안녕하세요?\")\n",
    "print(f\"오늘로 {count}회 방문하셨어요.\")"
   ]
  },
  {
   "cell_type": "markdown",
   "metadata": {},
   "source": [
    "### 떠올리기2"
   ]
  },
  {
   "cell_type": "code",
   "execution_count": 9,
   "metadata": {},
   "outputs": [
    {
     "name": "stdout",
     "output_type": "stream",
     "text": [
      "성별: 남자\n",
      "출생년도:  99\n",
      "월:  12\n",
      "일:  25\n",
      "생년월일:  991225\n",
      "주민번호뒷자리:  1234567\n"
     ]
    }
   ],
   "source": [
    "jumin = '991225-1234567'\n",
    "\n",
    "if jumin[7] == '1' or jumin[7] == '3':\n",
    "    print(\"성별: 남자\")\n",
    "else:\n",
    "    print(\"성별: 여자\")\n",
    "\n",
    "# print(\"성별: \", jumin[8])\n",
    "print(\"출생년도: \", jumin[:2])\n",
    "print(\"월: \", jumin[2:4])\n",
    "print(\"일: \", jumin[4:6])\n",
    "print(\"생년월일: \", jumin[:6])\n",
    "print(\"주민번호뒷자리: \", jumin[7:])"
   ]
  },
  {
   "cell_type": "code",
   "execution_count": 7,
   "metadata": {},
   "outputs": [
    {
     "name": "stdout",
     "output_type": "stream",
     "text": [
      "역삼역 도어읽 로꾸거 역삼역 도어읽 로으앞 .다니입역삼역 ,역삼역 은역번이 \n"
     ]
    }
   ],
   "source": [
    "string = \" 이번역은 역삼역, 역삼역입니다. 앞으로 읽어도 역삼역 거꾸로 읽어도 역삼역\" \n",
    "\n",
    "# ToDo: YOUR_CODE_HERE \n",
    "print(string[::-1])"
   ]
  },
  {
   "cell_type": "markdown",
   "metadata": {},
   "source": [
    "## 떠올리기3"
   ]
  },
  {
   "cell_type": "code",
   "execution_count": 14,
   "metadata": {},
   "outputs": [
    {
     "name": "stdout",
     "output_type": "stream",
     "text": [
      "로그인 실패\n"
     ]
    }
   ],
   "source": [
    "user_id = 'admin'\n",
    "user_pw = '1234'\n",
    "\n",
    "input_user_id = input(\"ID를 입력해주세요: \")\n",
    "input_user_pw = input(\"PASSWORD를 입력해주세요: \")\n",
    "\n",
    "# if input_user_id == user_id and input_user_pw == user_pw:\n",
    "#     print(\"로그인 성공\")\n",
    "# else:\n",
    "#     print(\"로그인 실패\")\n",
    "\n",
    "if input_user_id == user_id:\n",
    "    if input_user_pw == user_pw:\n",
    "        print(\"로그인 성공\")\n",
    "    else:\n",
    "        print(\"비밀번호가 틀렸습니다\")\n",
    "else:\n",
    "    print(\"로그인 실패\")"
   ]
  },
  {
   "cell_type": "markdown",
   "metadata": {},
   "source": [
    "## 반복문"
   ]
  },
  {
   "cell_type": "markdown",
   "metadata": {},
   "source": [
    "### while"
   ]
  },
  {
   "cell_type": "code",
   "execution_count": null,
   "metadata": {},
   "outputs": [
    {
     "name": "stdout",
     "output_type": "stream",
     "text": [
      "1번째 출력: hello python\n",
      "2번째 출력: hello python\n",
      "3번째 출력: hello python\n",
      "4번째 출력: hello python\n",
      "5번째 출력: hello python\n",
      "반복문 종료\n"
     ]
    }
   ],
   "source": [
    "i =0\n",
    "\n",
    "while i < 5:\n",
    "    i = i + 1\n",
    "    print(f\"{i}번째 출력: hello python\")\n",
    "\n",
    "print(\"반복문 종료\")"
   ]
  },
  {
   "cell_type": "code",
   "execution_count": 19,
   "metadata": {},
   "outputs": [
    {
     "name": "stdout",
     "output_type": "stream",
     "text": [
      "1 2 3 4 5 6 7 8 9 10 11 12 13 14 15 16 17 18 19 20 "
     ]
    }
   ],
   "source": [
    "i =0\n",
    "\n",
    "while i < 20:\n",
    "    i += 1\n",
    "    print(f\"{i}\", end=' ')"
   ]
  },
  {
   "cell_type": "markdown",
   "metadata": {},
   "source": [
    "#### 1부터 입력받은 수까지의 합 구하기"
   ]
  },
  {
   "cell_type": "code",
   "execution_count": null,
   "metadata": {},
   "outputs": [
    {
     "name": "stdout",
     "output_type": "stream",
     "text": [
      "1 부터 10까지의 합은 55 입니다.\n",
      "1 부터 10까지의 곱은 3,628,800 입니다.\n",
      "1 부터 10까지 짝수의 합은 25 입니다.\n",
      "1 부터 10까지 짝수의 합은 30 입니다.\n"
     ]
    }
   ],
   "source": [
    "endValue = int(input(\"합을 원하는 정수값 입력: \"))\n",
    "i = 0\n",
    "addNum = 0\n",
    "multiNum = 1\n",
    "evenNum = 0\n",
    "oddNum = 0\n",
    "\n",
    "while i < endValue:\n",
    "    i += 1\n",
    "\n",
    "    # addNum = addNum + i\n",
    "    addNum += i \n",
    "    multiNum *= i\n",
    "\n",
    "    if i%2:\n",
    "        oddNum += i\n",
    "    else: \n",
    "        evenNum += i\n",
    "\n",
    "print(f'1 부터 {endValue}까지의 합은 {addNum:,} 입니다.')\n",
    "print(f'1 부터 {endValue}까지의 곱은 {multiNum:,} 입니다.')\n",
    "print(f'1 부터 {endValue}까지 짝수의 합은 {oddNum:,} 입니다.')\n",
    "print(f'1 부터 {endValue}까지 짝수의 합은 {evenNum:,} 입니다.')"
   ]
  },
  {
   "cell_type": "markdown",
   "metadata": {},
   "source": [
    "### for"
   ]
  },
  {
   "cell_type": "code",
   "execution_count": 59,
   "metadata": {},
   "outputs": [
    {
     "name": "stdout",
     "output_type": "stream",
     "text": [
      "1 2 3 4 5 "
     ]
    }
   ],
   "source": [
    "for i in range(1, 6):\n",
    "    # print(\"hello python\")\n",
    "    print(i, end =' ')"
   ]
  },
  {
   "cell_type": "markdown",
   "metadata": {},
   "source": [
    "#### 1부터 입력받은 수까지의 합 구하기"
   ]
  },
  {
   "cell_type": "code",
   "execution_count": null,
   "metadata": {},
   "outputs": [
    {
     "name": "stdout",
     "output_type": "stream",
     "text": [
      "1 부터 20까지의 합은 210 입니다.\n",
      "1 부터 20까지의 곱은 2,432,902,008,176,640,000 입니다.\n",
      "1 부터 20까지 짝수의 합은 100 입니다.\n",
      "1 부터 20까지 짝수의 합은 110 입니다.\n"
     ]
    }
   ],
   "source": [
    "endValue = int(input(\"합을 원하는 정수값 입력: \"))\n",
    "i = 0\n",
    "addNum = 0\n",
    "multiNum = 1\n",
    "evenNum = 0\n",
    "oddNum = 0\n",
    "\n",
    "for i in range(1, endValue+1):\n",
    "    addNum += i \n",
    "    multiNum *= i\n",
    "\n",
    "    if i%2:\n",
    "        oddNum += i\n",
    "    else: \n",
    "        evenNum += i\n",
    "\n",
    "print(f'1 부터 {endValue}까지의 합은 {addNum:,} 입니다.')\n",
    "print(f'1 부터 {endValue}까지의 곱은 {multiNum:,} 입니다.')\n",
    "print(f'1 부터 {endValue}까지 짝수의 합은 {oddNum:,} 입니다.')\n",
    "print(f'1 부터 {endValue}까지 짝수의 합은 {evenNum:,} 입니다.')"
   ]
  },
  {
   "cell_type": "markdown",
   "metadata": {},
   "source": [
    "#### 구구단 입력받아서 한 단 출력하기   \n",
    "for, range() 함수 사용   "
   ]
  },
  {
   "cell_type": "code",
   "execution_count": null,
   "metadata": {},
   "outputs": [
    {
     "name": "stdout",
     "output_type": "stream",
     "text": [
      "*** 16 단 ***\n",
      "16 * 1 =  16\n",
      "16 * 2 =  32\n",
      "16 * 3 =  48\n",
      "16 * 4 =  64\n",
      "16 * 5 =  80\n",
      "16 * 6 =  96\n",
      "16 * 7 = 112\n",
      "16 * 8 = 128\n",
      "16 * 9 = 144\n"
     ]
    }
   ],
   "source": [
    "dan = int(input(\"출력할 단 입력: \"))\n",
    "# dan = 2\n",
    "\n",
    "print(f\"*** {dan} 단 ***\")\n",
    "for i in range(1, 10):\n",
    "    print(f\"{dan} * {i} = {dan*i:3}\")"
   ]
  },
  {
   "cell_type": "markdown",
   "metadata": {},
   "source": [
    "#### 구구단 입력받아서 한 단 출력하기   \n",
    "while 문으로 바꿔보기"
   ]
  },
  {
   "cell_type": "code",
   "execution_count": null,
   "metadata": {},
   "outputs": [
    {
     "name": "stdout",
     "output_type": "stream",
     "text": [
      "*** 16 단 ***\n",
      "16 * 1 = 16\n",
      "16 * 2 = 32\n",
      "16 * 3 = 48\n",
      "16 * 4 = 64\n",
      "16 * 5 = 80\n",
      "16 * 6 = 96\n",
      "16 * 7 = 112\n",
      "16 * 8 = 128\n",
      "16 * 9 = 144\n"
     ]
    }
   ],
   "source": [
    "dan = int(input(\"출력할 단 입력: \"))\n",
    "# dan = 2\n",
    "i = 0\n",
    "\n",
    "print(f\"*** {dan} 단 ***\")\n",
    "\n",
    "while i < 9 :\n",
    "    i += 1\n",
    "    print(f\"{dan} * {i} = {dan*i}\")"
   ]
  },
  {
   "cell_type": "code",
   "execution_count": 12,
   "metadata": {},
   "outputs": [
    {
     "name": "stdout",
     "output_type": "stream",
     "text": [
      "2*1=2\t3*1=3\t4*1=4\t5*1=5\t6*1=6\t7*1=7\t8*1=8\t9*1=9\t\n",
      "2*2=4\t3*2=6\t4*2=8\t5*2=10\t6*2=12\t7*2=14\t8*2=16\t9*2=18\t\n",
      "2*3=6\t3*3=9\t4*3=12\t5*3=15\t6*3=18\t7*3=21\t8*3=24\t9*3=27\t\n",
      "2*4=8\t3*4=12\t4*4=16\t5*4=20\t6*4=24\t7*4=28\t8*4=32\t9*4=36\t\n",
      "2*5=10\t3*5=15\t4*5=20\t5*5=25\t6*5=30\t7*5=35\t8*5=40\t9*5=45\t\n",
      "2*6=12\t3*6=18\t4*6=24\t5*6=30\t6*6=36\t7*6=42\t8*6=48\t9*6=54\t\n",
      "2*7=14\t3*7=21\t4*7=28\t5*7=35\t6*7=42\t7*7=49\t8*7=56\t9*7=63\t\n",
      "2*8=16\t3*8=24\t4*8=32\t5*8=40\t6*8=48\t7*8=56\t8*8=64\t9*8=72\t\n",
      "2*9=18\t3*9=27\t4*9=36\t5*9=45\t6*9=54\t7*9=63\t8*9=72\t9*9=81\t\n"
     ]
    }
   ],
   "source": [
    "endCount = 10\n",
    "\n",
    "for i in range(1, endCount):\n",
    "    for j in range(2, endCount):\n",
    "        print(f\"{j}*{i}={j*i}\", end=\"\\t\")    \n",
    "    print(\"\")"
   ]
  },
  {
   "cell_type": "code",
   "execution_count": 16,
   "metadata": {},
   "outputs": [
    {
     "name": "stdout",
     "output_type": "stream",
     "text": [
      "2*1=2\t3*1=3\t4*1=4\t5*1=5\t6*1=6\t7*1=7\t8*1=8\t9*1=9\t\n",
      "2*2=4\t3*2=6\t4*2=8\t5*2=10\t6*2=12\t7*2=14\t8*2=16\t9*2=18\t\n",
      "2*3=6\t3*3=9\t4*3=12\t5*3=15\t6*3=18\t7*3=21\t8*3=24\t9*3=27\t\n",
      "2*4=8\t3*4=12\t4*4=16\t5*4=20\t6*4=24\t7*4=28\t8*4=32\t9*4=36\t\n",
      "2*5=10\t3*5=15\t4*5=20\t5*5=25\t6*5=30\t7*5=35\t8*5=40\t9*5=45\t\n",
      "2*6=12\t3*6=18\t4*6=24\t5*6=30\t6*6=36\t7*6=42\t8*6=48\t9*6=54\t\n",
      "2*7=14\t3*7=21\t4*7=28\t5*7=35\t6*7=42\t7*7=49\t8*7=56\t9*7=63\t\n",
      "2*8=16\t3*8=24\t4*8=32\t5*8=40\t6*8=48\t7*8=56\t8*8=64\t9*8=72\t\n",
      "2*9=18\t3*9=27\t4*9=36\t5*9=45\t6*9=54\t7*9=63\t8*9=72\t9*9=81\t\n"
     ]
    }
   ],
   "source": [
    "endCount = 9\n",
    "i = 0\n",
    "\n",
    "while i < endCount:\n",
    "    i += 1\n",
    "    j = 1\n",
    "    while j < endCount:\n",
    "        j += 1\n",
    "        print(f\"{j}*{i}={j*i}\", end=\"\\t\")\n",
    "\n",
    "    print(\"\")"
   ]
  },
  {
   "cell_type": "markdown",
   "metadata": {},
   "source": [
    "#### break 사용하기"
   ]
  },
  {
   "cell_type": "code",
   "execution_count": 23,
   "metadata": {},
   "outputs": [
    {
     "name": "stdout",
     "output_type": "stream",
     "text": [
      "6 21\n",
      "21\n"
     ]
    }
   ],
   "source": [
    "# break\n",
    "i = 0\n",
    "total = 0\n",
    "\n",
    "for i in range(1, 11):\n",
    "    total += i\n",
    "\n",
    "    if total >= 20:\n",
    "        print(i, total)\n",
    "        break\n",
    "\n",
    "print(total)"
   ]
  },
  {
   "cell_type": "markdown",
   "metadata": {},
   "source": [
    "#### continue 사용하기"
   ]
  },
  {
   "cell_type": "code",
   "execution_count": 29,
   "metadata": {},
   "outputs": [
    {
     "name": "stdout",
     "output_type": "stream",
     "text": [
      "1 3 5 7 9 \n",
      " 25\n"
     ]
    }
   ],
   "source": [
    "# countinue \n",
    "total = 0\n",
    "\n",
    "for i in range(1, 11):\n",
    "    if not(i%2) :\n",
    "        continue\n",
    "    print(i, end=\" \")\n",
    "    total += i\n",
    "\n",
    "print(\"\\n\",total)"
   ]
  },
  {
   "cell_type": "markdown",
   "metadata": {},
   "source": [
    "#### up and down 게임"
   ]
  },
  {
   "cell_type": "code",
   "execution_count": 40,
   "metadata": {},
   "outputs": [
    {
     "name": "stdout",
     "output_type": "stream",
     "text": [
      "***58**\n",
      "1부터 100 사이의 숫자를 맞춰주세요 : 80\n",
      "너무 커요\n",
      "1부터 100 사이의 숫자를 맞춰주세요 : 40\n",
      "너무 작아요\n",
      "1부터 100 사이의 숫자를 맞춰주세요 : 50\n",
      "너무 작아요\n",
      "1부터 100 사이의 숫자를 맞춰주세요 : 55\n",
      "너무 작아요\n",
      "1부터 100 사이의 숫자를 맞춰주세요 : 58\n",
      "\n",
      "정답입니다.\n",
      "5번 입력하셨습니다.\n"
     ]
    }
   ],
   "source": [
    "import random #모듈\n",
    "\n",
    "answer = random.randint(1,100)\n",
    "number = 0\n",
    "count = 0\n",
    "\n",
    "# print(f\"***{answer}**\")\n",
    "while True:\n",
    "    number = int(input(\"1부터 100 사이의 숫자를 맞춰주세요 :\"))\n",
    "\n",
    "    count = count + 1\n",
    "    print(f\"1부터 100 사이의 숫자를 맞춰주세요 : {number}\")\n",
    "\n",
    "    if answer < number :\n",
    "        print(\"너무 커요\")\n",
    "    elif answer > number :\n",
    "        print(\"너무 작아요\")\n",
    "    elif answer == number :\n",
    "        print(\"\\n정답입니다.\")\n",
    "        print(f\"{count}번 입력하셨습니다.\")\n",
    "        break\n",
    "        "
   ]
  },
  {
   "cell_type": "markdown",
   "metadata": {},
   "source": [
    "#### 숫자 맞추기 게임"
   ]
  },
  {
   "cell_type": "code",
   "execution_count": 8,
   "metadata": {},
   "outputs": [
    {
     "name": "stdout",
     "output_type": "stream",
     "text": [
      "\n",
      "1. 무한모드\n",
      "2. 유한모드\n",
      "3. 끝내기\n",
      "\n",
      "선택한 메뉴 : 1\n",
      "***29**\n",
      "무한 모드~~ \n",
      "1부터 100 사이의 숫자를 맞춰주세요 : 1\n",
      "너무 작아요\n",
      "1부터 100 사이의 숫자를 맞춰주세요 : 30\n",
      "너무 커요\n",
      "1부터 100 사이의 숫자를 맞춰주세요 : 29\n",
      "\n",
      "정답입니다.\n",
      "3번 입력하셨습니다.\n",
      "\n",
      "1. 무한모드\n",
      "2. 유한모드\n",
      "3. 끝내기\n",
      "\n",
      "선택한 메뉴 : 2\n",
      "***37**\n",
      "유한 모드 10번 만에 맞추기~\n",
      "1부터 100 사이의 숫자를 맞춰주세요 : 30\n",
      "너무 작아요\n",
      "0 5\n",
      "1부터 100 사이의 숫자를 맞춰주세요 : 30\n",
      "너무 작아요\n",
      "1 5\n",
      "1부터 100 사이의 숫자를 맞춰주세요 : 30\n",
      "너무 작아요\n",
      "2 5\n",
      "1부터 100 사이의 숫자를 맞춰주세요 : 30\n",
      "너무 작아요\n",
      "3 5\n",
      "1부터 100 사이의 숫자를 맞춰주세요 : 30\n",
      "너무 작아요\n",
      "4 5\n",
      "입력 횟수를 초과하였습니다.\n",
      "\n",
      "1. 무한모드\n",
      "2. 유한모드\n",
      "3. 끝내기\n",
      "\n",
      "선택한 메뉴 : 2\n",
      "***85**\n",
      "유한 모드 10번 만에 맞추기~\n",
      "1부터 100 사이의 숫자를 맞춰주세요 : 2\n",
      "너무 작아요\n",
      "0 5\n",
      "1부터 100 사이의 숫자를 맞춰주세요 : 85\n",
      "\n",
      "정답입니다.\n",
      "2번 입력하셨습니다.\n",
      "\n",
      "1. 무한모드\n",
      "2. 유한모드\n",
      "3. 끝내기\n",
      "\n",
      "선택한 메뉴 : 3\n",
      "게임을 끝냅니다.\n"
     ]
    }
   ],
   "source": [
    "import random #모듈\n",
    "\n",
    "answer = random.randint(1,100)\n",
    "number = 0\n",
    "count = 0\n",
    "prom_num = 0\n",
    "max_count = 10\n",
    "prom = \"\"\"\n",
    "1. 무한모드\n",
    "2. 유한모드\n",
    "3. 끝내기\n",
    "\"\"\"\n",
    "\n",
    "while True:\n",
    "\n",
    "    print(prom)\n",
    "    prom_num = input(\"메뉴를 선택해주세요 : \")\n",
    "\n",
    "    print(\"선택한 메뉴 :\", prom_num)\n",
    "\n",
    "    if prom_num == \"1\" :\n",
    "        answer = random.randint(1,100)\n",
    "        # print(f\"***{answer}**\")\n",
    "        print(\"무한 모드~~ \")\n",
    "\n",
    "        while True:\n",
    "            number = int(input(\"1부터 100 사이의 숫자를 맞춰주세요 :\"))\n",
    "\n",
    "            count = count + 1\n",
    "            print(f\"1부터 100 사이의 숫자를 맞춰주세요 : {number}\")\n",
    "\n",
    "            if answer < number :\n",
    "                print(\"너무 커요\")\n",
    "            elif answer > number :\n",
    "                print(\"너무 작아요\")\n",
    "            elif answer == number :\n",
    "                print(\"\\n정답입니다.\")\n",
    "                print(f\"{count}번 입력하셨습니다.\")\n",
    "                break\n",
    "\n",
    "    elif prom_num == \"2\" : \n",
    "        answer = random.randint(1,100)\n",
    "        # print(f\"***{answer}**\")\n",
    "        print(f\"유한 모드 {max_count}번 만에 맞추기~\")\n",
    "        count = 0\n",
    "\n",
    "        for count in range(0, max_count) :\n",
    "            number = int(input(\"1부터 100 사이의 숫자를 맞춰주세요 :\"))\n",
    "\n",
    "            print(f\"1부터 100 사이의 숫자를 맞춰주세요 : {number}\")\n",
    "\n",
    "            if answer < number :\n",
    "                print(\"너무 커요\")\n",
    "            elif answer > number :\n",
    "                print(\"너무 작아요\")\n",
    "            elif answer == number :\n",
    "                print(\"\\n정답입니다.\")\n",
    "                print(f\"{count+1}번 입력하셨습니다.\")\n",
    "                break\n",
    "            \n",
    "            # print(count, max_count)\n",
    "            if count == max_count-1 :\n",
    "                print(\"입력 횟수를 초과하였습니다.\")\n",
    "\n",
    "    elif prom_num == \"3\" :\n",
    "        print(\"게임을 끝냅니다.\")\n",
    "        break\n"
   ]
  },
  {
   "cell_type": "markdown",
   "metadata": {},
   "source": [
    "#### 20 보다 작은 정수 중 3의 배수와 5의 배수 제외하고 출력"
   ]
  },
  {
   "cell_type": "code",
   "execution_count": null,
   "metadata": {},
   "outputs": [
    {
     "name": "stdout",
     "output_type": "stream",
     "text": [
      "1 2 4 7 8 11 13 14 16 17 19 "
     ]
    }
   ],
   "source": [
    "x = 0\n",
    "maxNum = 20\n",
    "\n",
    "while True:\n",
    "    x += 1\n",
    "\n",
    "    # if x == maxNum:\n",
    "    \n",
    "    # if x >= maxNum:\n",
    "    #     break\n",
    "    # else :\n",
    "    #     if not(x%3) :\n",
    "    #         continue\n",
    "    #     elif not(x%5) :\n",
    "    #         continue\n",
    "    #     else :\n",
    "    #         print(x, end=' ')\n",
    "    \n",
    "    if x >= maxNum:\n",
    "        break\n",
    "\n",
    "    if not(x%3) or not(x%5) :\n",
    "        continue\n",
    "\n",
    "    print(x, end=' ')"
   ]
  },
  {
   "cell_type": "markdown",
   "metadata": {},
   "source": [
    "#### 별 찍기"
   ]
  },
  {
   "cell_type": "code",
   "execution_count": null,
   "metadata": {},
   "outputs": [
    {
     "name": "stdout",
     "output_type": "stream",
     "text": [
      "*\n",
      "***\n",
      "*****\n",
      "*******\n",
      "*********\n",
      "***********\n",
      "*************\n",
      "***************\n",
      "*****************\n",
      "*******************\n",
      "*\n",
      "***\n",
      "*****\n",
      "*******\n",
      "*********\n",
      "***********\n",
      "*************\n",
      "***************\n",
      "*****************\n",
      "*******************\n"
     ]
    }
   ],
   "source": [
    "i=0\n",
    "j=0\n",
    "maxNum = 10\n",
    "\n",
    "# 이전 버전\n",
    "for i in range(0, maxNum) :\n",
    "    for j in range(0, i):\n",
    "        print(\"*\", end=\"*\")\n",
    "\n",
    "    print(\"*\")\n",
    "\n",
    "# 파이썬 버전\n",
    "for i in range(1, 11) :\n",
    "    print('*' * (2*i -1))"
   ]
  },
  {
   "cell_type": "code",
   "execution_count": null,
   "metadata": {},
   "outputs": [
    {
     "name": "stdout",
     "output_type": "stream",
     "text": [
      "*******************\n",
      "*****************\n",
      "***************\n",
      "*************\n",
      "***********\n",
      "*********\n",
      "*******\n",
      "*****\n",
      "***\n",
      "*\n",
      "*******************\n",
      "*****************\n",
      "***************\n",
      "*************\n",
      "***********\n",
      "*********\n",
      "*******\n",
      "*****\n",
      "***\n",
      "*\n"
     ]
    }
   ],
   "source": [
    "i=0\n",
    "j=0\n",
    "maxNum = 10\n",
    "\n",
    "# 이전 버전\n",
    "for i in range(0, maxNum) :\n",
    "    for j in range(i, maxNum-1):\n",
    "        print(\"*\", end=\"*\")\n",
    "\n",
    "    print(\"*\")\n",
    "\n",
    "# 파이썬 버전\n",
    "for i in range(1, 11) :\n",
    "    print('*' * ((11-i)*2 - 1))"
   ]
  },
  {
   "cell_type": "code",
   "execution_count": null,
   "metadata": {},
   "outputs": [
    {
     "name": "stdout",
     "output_type": "stream",
     "text": [
      "         *\n",
      "        **\n",
      "       ***\n",
      "      ****\n",
      "     *****\n",
      "    ******\n",
      "   *******\n",
      "  ********\n",
      " *********\n",
      "**********\n",
      "         \n",
      "        *\n",
      "       **\n",
      "      ***\n",
      "     ****\n",
      "    *****\n",
      "   ******\n",
      "  *******\n",
      " ********\n",
      "*********\n"
     ]
    }
   ],
   "source": [
    "i=0\n",
    "j=0\n",
    "maxNum = 10\n",
    "\n",
    "# 이전 버전\n",
    "for i in range(0, maxNum) :\n",
    "    for j in range(0, maxNum):\n",
    "        if j < maxNum-i-1 :\n",
    "            print(\" \", end=\"\")\n",
    "        else:\n",
    "            print(\"*\", end=\"\")\n",
    "\n",
    "    print(\"\")\n",
    "\n",
    "# 파이썬 버전\n",
    "for i in range(1, 11) :\n",
    "    print(' ' * ((11-i) - 1), end='')\n",
    "    print('*' * (i -1))"
   ]
  },
  {
   "cell_type": "code",
   "execution_count": 6,
   "metadata": {},
   "outputs": [
    {
     "name": "stdout",
     "output_type": "stream",
     "text": [
      "         *         \n",
      "        ***        \n",
      "       *****       \n",
      "      *******      \n",
      "     *********     \n",
      "    ***********    \n",
      "   *************   \n",
      "  ***************  \n",
      " ***************** \n",
      "*******************\n",
      "         *\n",
      "        ***\n",
      "       *****\n",
      "      *******\n",
      "     *********\n",
      "    ***********\n",
      "   *************\n",
      "  ***************\n",
      " *****************\n",
      "*******************\n"
     ]
    }
   ],
   "source": [
    "i=0\n",
    "j=0\n",
    "maxNum = 10\n",
    "\n",
    "# 이전 버전\n",
    "for i in range(0, maxNum) :\n",
    "    for j in range(0, maxNum*2-1):\n",
    "        if j < maxNum-i-1 :\n",
    "            print(\" \", end=\"\")\n",
    "        elif j > maxNum+i-1 :\n",
    "            print(\" \", end=\"\")\n",
    "        else:\n",
    "            print(\"*\", end=\"\")\n",
    "\n",
    "    print(\"\")\n",
    "\n",
    "# 파이썬 버전\n",
    "for i in range(1, 11) :\n",
    "    print(' ' * ((11-i) - 1), end='')\n",
    "    print('*' * (i*2 -1))"
   ]
  },
  {
   "cell_type": "markdown",
   "metadata": {},
   "source": [
    "## 리스트"
   ]
  },
  {
   "cell_type": "code",
   "execution_count": 153,
   "metadata": {},
   "outputs": [
    {
     "data": {
      "text/plain": [
       "['Life', 'is', 'too']"
      ]
     },
     "execution_count": 153,
     "metadata": {},
     "output_type": "execute_result"
    }
   ],
   "source": [
    "b = ['Life', 'is', 'too', 'short']\n",
    "\n",
    "b[0:-1]"
   ]
  },
  {
   "cell_type": "code",
   "execution_count": 161,
   "metadata": {},
   "outputs": [
    {
     "data": {
      "text/plain": [
       "[1, 'hello']"
      ]
     },
     "execution_count": 161,
     "metadata": {},
     "output_type": "execute_result"
    }
   ],
   "source": [
    "d = [1, 'hello', [2, 'hi']]\n",
    "\n",
    "d[0:-1]"
   ]
  },
  {
   "cell_type": "code",
   "execution_count": 174,
   "metadata": {},
   "outputs": [
    {
     "data": {
      "text/plain": [
       "['a', 'b']"
      ]
     },
     "execution_count": 174,
     "metadata": {},
     "output_type": "execute_result"
    }
   ],
   "source": [
    "a = [1, 2, 3, ['a', 'b', 'c'], 4, 5]\n",
    "\n",
    "a[3][:2]"
   ]
  },
  {
   "cell_type": "code",
   "execution_count": 177,
   "metadata": {},
   "outputs": [
    {
     "name": "stdout",
     "output_type": "stream",
     "text": [
      "[10, 100, 200, 40, 50]\n"
     ]
    }
   ],
   "source": [
    "a = [10, 20, 30, 40, 50]\n",
    "\n",
    "a[1] = 100\n",
    "a[1:3] = [100,200]\n",
    "\n",
    "print(a)"
   ]
  },
  {
   "cell_type": "code",
   "execution_count": 185,
   "metadata": {},
   "outputs": [
    {
     "name": "stdout",
     "output_type": "stream",
     "text": [
      "['banana']\n"
     ]
    }
   ],
   "source": [
    "fruits = ['apple', 'banana']\n",
    "\n",
    "fruits.append('cherry')\n",
    "fruits.insert(1, 'mango')\n",
    "fruits.pop()\n",
    "fruits.pop(1)\n",
    "fruits.remove('apple')\n",
    "\n",
    "print(fruits)"
   ]
  },
  {
   "cell_type": "code",
   "execution_count": 189,
   "metadata": {},
   "outputs": [
    {
     "name": "stdout",
     "output_type": "stream",
     "text": [
      "[100, 30, 50, 80, 90, 70]\n",
      "[30, 50, 70, 80, 90, 100]\n",
      "[100, 90, 80, 70, 50, 30]\n",
      "[30, 50, 70, 80, 90, 100]\n"
     ]
    }
   ],
   "source": [
    "score = [100, 30, 50, 80, 90, 70]\n",
    "\n",
    "print(score)\n",
    "score.sort()\n",
    "print(score)\n",
    "score.reverse()\n",
    "print(score)\n",
    "score.reverse()\n",
    "print(score)"
   ]
  },
  {
   "cell_type": "code",
   "execution_count": 191,
   "metadata": {},
   "outputs": [
    {
     "name": "stdout",
     "output_type": "stream",
     "text": [
      "65.0\n"
     ]
    }
   ],
   "source": [
    "score = [100, 50, 30, 50, 80, 50, 90, 70]\n",
    "\n",
    "print(sum(score)/len(score))"
   ]
  },
  {
   "cell_type": "markdown",
   "metadata": {},
   "source": [
    "#### 점수별 합격 여부 표시하기"
   ]
  },
  {
   "cell_type": "code",
   "execution_count": 206,
   "metadata": {},
   "outputs": [
    {
     "name": "stdout",
     "output_type": "stream",
     "text": [
      "1번 학생은 합격 입니다.\n",
      "2번 학생은 불합격 입니다.\n",
      "3번 학생은 합격 입니다.\n",
      "4번 학생은 불합격 입니다.\n",
      "5번 학생은 합격 입니다.\n"
     ]
    }
   ],
   "source": [
    "# >= 60 합격\n",
    "\n",
    "marks = [90, 25, 67, 45, 80]\n",
    "count = 0\n",
    "\n",
    "for i in marks:\n",
    "    count += 1\n",
    "    if i >= 60:\n",
    "        print(f'{count}번 학생은 합격 입니다.')\n",
    "    else:\n",
    "        print(f'{count}번 학생은 불합격 입니다.')\n"
   ]
  },
  {
   "cell_type": "markdown",
   "metadata": {},
   "source": [
    "#### 단어 입력하여 맞추기"
   ]
  },
  {
   "cell_type": "code",
   "execution_count": null,
   "metadata": {},
   "outputs": [
    {
     "name": "stdout",
     "output_type": "stream",
     "text": [
      "끝말잇기 게임\n",
      "시작\n",
      "가나다\n",
      "단어를 입력해주세요 : 다람쥐\n",
      "단어를 입력해주세요 : 쥐포\n",
      "단어를 입력해주세요 : 포장지\n",
      "단어를 입력해주세요 : 지렁이\n",
      "단어를 입력해주세요 : 이빨\n",
      "단어를 입력해주세요 : 빨대\n",
      "단어를 입력해주세요 : 대나무\n",
      "땡\n"
     ]
    }
   ],
   "source": [
    "print(\"끝말잇기 게임\")\n",
    "print(\"시작\")\n",
    "var = \"가나다\"\n",
    "\n",
    "print(var)\n",
    "\n",
    "while True:\n",
    "    word = input(\"단어를 입력해주세요 :\")\n",
    "\n",
    "    if var[-1] == word[0] :\n",
    "        var = word\n",
    "        print(\"단어를 입력해주세요 :\", var)\n",
    "        continue\n",
    "    else :\n",
    "        print(\"땡\")\n",
    "        break"
   ]
  },
  {
   "cell_type": "markdown",
   "metadata": {},
   "source": [
    "#### 과일장사하기 "
   ]
  },
  {
   "cell_type": "code",
   "execution_count": 6,
   "metadata": {},
   "outputs": [
    {
     "name": "stdout",
     "output_type": "stream",
     "text": [
      "과일 가게에 오신 것을 환영합니다!\n",
      "오늘 판매하는 과일:  ['사과', '바나나', '오렌지', '포도', '수박']\n",
      "\n",
      "현재 재고:  [3, 3, 3, 3, 3]\n",
      "어떤 과일을 구매하시겠습니까? (종료하려면 '그만'을 입력하세요):  사과\n",
      "사과을(를) 구매하셨습니다! 남은 사과의 재고:  2\n",
      "\n",
      "현재 재고:  [2, 3, 3, 3, 3]\n",
      "어떤 과일을 구매하시겠습니까? (종료하려면 '그만'을 입력하세요):  사과\n",
      "사과을(를) 구매하셨습니다! 남은 사과의 재고:  1\n",
      "\n",
      "현재 재고:  [1, 3, 3, 3, 3]\n",
      "어떤 과일을 구매하시겠습니까? (종료하려면 '그만'을 입력하세요):  사과\n",
      "사과을(를) 구매하셨습니다! 남은 사과의 재고:  0\n",
      "\n",
      "현재 재고:  [0, 3, 3, 3, 3]\n",
      "사과은(는) 다 팔렸습니다.\n",
      "\n",
      "현재 재고:  [0, 3, 3, 3, 3]\n",
      "사과은(는) 다 팔렸습니다.\n",
      "\n",
      "현재 재고:  [0, 3, 3, 3, 3]\n",
      "게임을 종료합니다.\n"
     ]
    }
   ],
   "source": [
    "f = ['사과', '바나나', '오렌지', '포도', '수박'] \n",
    "c = [3, 3, 3, 3, 3] \n",
    "word = ''\n",
    "count = 0\n",
    "\n",
    "print(\"과일 가게에 오신 것을 환영합니다!\")\n",
    "print(\"오늘 판매하는 과일: \", f)\n",
    "\n",
    "while True:\n",
    "    print(\"\\n현재 재고: \", c)\n",
    "    if sum(c) == 0 :\n",
    "        print(\"모든 과일이 다 팔렸습니다. 가게를 종료합니다.\")\n",
    "        break\n",
    "\n",
    "    word = input(\"어떤 과일을 구매하시겠습니까? (종료하려면 '그만'을 입력하세요): \")\n",
    "\n",
    "    if word == '그만':\n",
    "        print(\"게임을 종료합니다.\")\n",
    "        break\n",
    "\n",
    "    if c[f.index(word)] < 1:\n",
    "        print(f\"{word}은(는) 다 팔렸습니다.\")\n",
    "        continue\n",
    "    else:\n",
    "        c[f.index(word)] -= 1\n",
    "    \n",
    "    print(\"어떤 과일을 구매하시겠습니까? (종료하려면 '그만'을 입력하세요): \", word)\n",
    "    print(f\"{word}을(를) 구매하셨습니다! 남은 {word}의 재고: \", c[f.index(word)])\n"
   ]
  }
 ],
 "metadata": {
  "kernelspec": {
   "display_name": "Python 3",
   "language": "python",
   "name": "python3"
  },
  "language_info": {
   "codemirror_mode": {
    "name": "ipython",
    "version": 3
   },
   "file_extension": ".py",
   "mimetype": "text/x-python",
   "name": "python",
   "nbconvert_exporter": "python",
   "pygments_lexer": "ipython3",
   "version": "3.11.9"
  }
 },
 "nbformat": 4,
 "nbformat_minor": 2
}
