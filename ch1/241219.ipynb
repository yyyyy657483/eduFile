{
 "cells": [
  {
   "cell_type": "markdown",
   "metadata": {},
   "source": [
    "# 2024.12.19   \n",
    "환경: Python 3.11.9  \n",
    "툴: VSCode 주피터 노트북  \n",
    "목적: 파이썬 기본 문법  "
   ]
  },
  {
   "cell_type": "markdown",
   "metadata": {},
   "source": [
    "#### 단순 출력"
   ]
  },
  {
   "cell_type": "code",
   "execution_count": 82,
   "metadata": {},
   "outputs": [
    {
     "name": "stdout",
     "output_type": "stream",
     "text": [
      "hello python\n"
     ]
    }
   ],
   "source": [
    "print(\"hello python\")"
   ]
  },
  {
   "cell_type": "code",
   "execution_count": 83,
   "metadata": {},
   "outputs": [
    {
     "name": "stdout",
     "output_type": "stream",
     "text": [
      "hello python1\n",
      "hello python3\n"
     ]
    }
   ],
   "source": [
    "print(\"hello python1\")\n",
    "\"hello python2\"\n",
    "print(\"hello python3\")"
   ]
  },
  {
   "cell_type": "code",
   "execution_count": 84,
   "metadata": {},
   "outputs": [
    {
     "name": "stdout",
     "output_type": "stream",
     "text": [
      "hello python1\n"
     ]
    },
    {
     "data": {
      "text/plain": [
       "'hello python2'"
      ]
     },
     "execution_count": 84,
     "metadata": {},
     "output_type": "execute_result"
    }
   ],
   "source": [
    "print(\"hello python1\")\n",
    "\"hello python2\""
   ]
  },
  {
   "cell_type": "code",
   "execution_count": 85,
   "metadata": {},
   "outputs": [
    {
     "data": {
      "text/plain": [
       "7"
      ]
     },
     "execution_count": 85,
     "metadata": {},
     "output_type": "execute_result"
    }
   ],
   "source": [
    "1+2\n",
    "2+3\n",
    "3+4"
   ]
  },
  {
   "cell_type": "code",
   "execution_count": 86,
   "metadata": {},
   "outputs": [
    {
     "name": "stdout",
     "output_type": "stream",
     "text": [
      "Hello\n",
      "Python\n",
      "홍길동 나이 = 20 세\n",
      "홍길동 나이 = 20 세\n"
     ]
    }
   ],
   "source": [
    "print(\"Hello\")\n",
    "print(\"Python\")\n",
    "print(\"홍길동 나이 = 20 세\")\n",
    "print(\"홍길동\", \"나이 =\", 20, \"세\")"
   ]
  },
  {
   "cell_type": "code",
   "execution_count": 87,
   "metadata": {},
   "outputs": [
    {
     "name": "stdout",
     "output_type": "stream",
     "text": [
      "hello\n",
      "python\n",
      "hello\n",
      "python\n"
     ]
    },
    {
     "data": {
      "text/plain": [
       "(None, None)"
      ]
     },
     "execution_count": 87,
     "metadata": {},
     "output_type": "execute_result"
    }
   ],
   "source": [
    "print(\"hello\"); print(\"python\")\n",
    "print(\"hello\"), print(\"python\")"
   ]
  },
  {
   "cell_type": "code",
   "execution_count": 88,
   "metadata": {},
   "outputs": [
    {
     "name": "stdout",
     "output_type": "stream",
     "text": [
      "hipython@@@woooooooooooo\n",
      "hipythonwoooooooooooo\n"
     ]
    }
   ],
   "source": [
    "# sep 기본값이 space/공백백\n",
    "print(\"hi\"+\"python\", \"woooooooooooo\", sep='@@@')\n",
    "print(\"hi\",\"python\", \"woooooooooooo\", sep='')"
   ]
  },
  {
   "cell_type": "code",
   "execution_count": 89,
   "metadata": {},
   "outputs": [
    {
     "name": "stdout",
     "output_type": "stream",
     "text": [
      "hi python\n"
     ]
    }
   ],
   "source": [
    "# end 기본값이 enter/줄바꿈\n",
    "print(\"hi\", end=\" \")\n",
    "print(\"python\")"
   ]
  },
  {
   "cell_type": "markdown",
   "metadata": {},
   "source": [
    "#### 변수와 자료형  \n",
    "변수 선언해보기   \n",
    "String, int, bool 값 입력해보기   \n",
    "String 인덱스 조절해보기"
   ]
  },
  {
   "cell_type": "code",
   "execution_count": 39,
   "metadata": {},
   "outputs": [
    {
     "name": "stdout",
     "output_type": "stream",
     "text": [
      "홍길동 나이 = 20 세\n",
      "<class 'str'>\n"
     ]
    },
    {
     "data": {
      "text/plain": [
       "int"
      ]
     },
     "execution_count": 39,
     "metadata": {},
     "output_type": "execute_result"
    }
   ],
   "source": [
    "name = \"홍길동\"\n",
    "age = 20\n",
    "\n",
    "print(name, \"나이 =\", age, \"세\")\n",
    "\n",
    "print(type(name))\n",
    "\n",
    "name = 30\n",
    "type(name)"
   ]
  },
  {
   "cell_type": "code",
   "execution_count": 40,
   "metadata": {},
   "outputs": [
    {
     "data": {
      "text/plain": [
       "True"
      ]
     },
     "execution_count": 40,
     "metadata": {},
     "output_type": "execute_result"
    }
   ],
   "source": [
    "bool(1)"
   ]
  },
  {
   "cell_type": "code",
   "execution_count": 41,
   "metadata": {},
   "outputs": [
    {
     "data": {
      "text/plain": [
       "'PythonPythonPython'"
      ]
     },
     "execution_count": 41,
     "metadata": {},
     "output_type": "execute_result"
    }
   ],
   "source": [
    "head = 'Python'\n",
    "\n",
    "head*3"
   ]
  },
  {
   "cell_type": "code",
   "execution_count": 42,
   "metadata": {},
   "outputs": [
    {
     "data": {
      "text/plain": [
       "6"
      ]
     },
     "execution_count": 42,
     "metadata": {},
     "output_type": "execute_result"
    }
   ],
   "source": [
    "len(head)"
   ]
  },
  {
   "cell_type": "code",
   "execution_count": 43,
   "metadata": {},
   "outputs": [
    {
     "name": "stdout",
     "output_type": "stream",
     "text": [
      "'낮말'은 새가 듣고 '밤말'은 쥐가 듣는다.\n"
     ]
    }
   ],
   "source": [
    "text = \"'낮말'은 새가 듣고 '밤말'은 쥐가 듣는다.\"\n",
    "\n",
    "print(text)"
   ]
  },
  {
   "cell_type": "code",
   "execution_count": 44,
   "metadata": {},
   "outputs": [
    {
     "data": {
      "text/plain": [
       "'too'"
      ]
     },
     "execution_count": 44,
     "metadata": {},
     "output_type": "execute_result"
    }
   ],
   "source": [
    "samplelestring = \"Life is too short\"\n",
    "\n",
    "samplelestring[8:11]"
   ]
  },
  {
   "cell_type": "code",
   "execution_count": 45,
   "metadata": {},
   "outputs": [
    {
     "data": {
      "text/plain": [
       "'Lf stosot'"
      ]
     },
     "execution_count": 45,
     "metadata": {},
     "output_type": "execute_result"
    }
   ],
   "source": [
    "samplelestring[::2]"
   ]
  },
  {
   "cell_type": "code",
   "execution_count": 46,
   "metadata": {},
   "outputs": [
    {
     "name": "stdout",
     "output_type": "stream",
     "text": [
      "Leef\n"
     ]
    }
   ],
   "source": [
    "a = \"Life is too short, You need Python\"\n",
    "\n",
    "print(a[0]+a[-10:-8]+a[2])"
   ]
  },
  {
   "cell_type": "markdown",
   "metadata": {},
   "source": [
    "### 연산자"
   ]
  },
  {
   "cell_type": "markdown",
   "metadata": {},
   "source": [
    "##### 산술연산자 출력하기"
   ]
  },
  {
   "cell_type": "code",
   "execution_count": 47,
   "metadata": {},
   "outputs": [
    {
     "name": "stdout",
     "output_type": "stream",
     "text": [
      "13\n",
      "5\n",
      "36\n",
      "2.25\n",
      "1\n",
      "2\n",
      "6561\n"
     ]
    }
   ],
   "source": [
    "print(9+4)\n",
    "print(9-4)\n",
    "print(9*4)\n",
    "print(9/4)\n",
    "print(9%4)\n",
    "print(9//4)\n",
    "print(9**4)"
   ]
  },
  {
   "cell_type": "markdown",
   "metadata": {},
   "source": [
    "##### 미션 1  \n",
    "Todo: 합, 차, 곱, 나눗셈, 몫, 나머지 출력하기"
   ]
  },
  {
   "cell_type": "code",
   "execution_count": 48,
   "metadata": {},
   "outputs": [
    {
     "name": "stdout",
     "output_type": "stream",
     "text": [
      "7\n",
      "-1\n",
      "12\n",
      "0.75\n",
      "0\n",
      "3\n"
     ]
    }
   ],
   "source": [
    "a = 3\n",
    "b = 4\n",
    "\n",
    "print(a+b)\n",
    "print(a-b)\n",
    "print(a*b)\n",
    "print(a/b)\n",
    "print(a//b)\n",
    "print(a%b)"
   ]
  },
  {
   "cell_type": "markdown",
   "metadata": {},
   "source": [
    "ToDo: 각 자리의 숫자를 추출해서 출력하기"
   ]
  },
  {
   "cell_type": "code",
   "execution_count": 49,
   "metadata": {},
   "outputs": [
    {
     "name": "stdout",
     "output_type": "stream",
     "text": [
      "1 2 3 4\n"
     ]
    }
   ],
   "source": [
    "n = 1234\n",
    "\n",
    "d1 = n//1000\n",
    "d2 = (n%1000)//100\n",
    "d3 = (n%100)//10\n",
    "d4 = (n%10)\n",
    "\n",
    "print(d1, d2 , d3 , d4)"
   ]
  },
  {
   "cell_type": "markdown",
   "metadata": {},
   "source": [
    "##### 미션 2  \n",
    "Todo: 100미만 절사 처리하기"
   ]
  },
  {
   "cell_type": "code",
   "execution_count": 50,
   "metadata": {},
   "outputs": [
    {
     "name": "stdout",
     "output_type": "stream",
     "text": [
      "12345600\n"
     ]
    }
   ],
   "source": [
    "pay = 12345678 # 12345678원 \n",
    "\n",
    "pay = pay - (pay%100)\n",
    "\n",
    "print(pay)"
   ]
  },
  {
   "cell_type": "markdown",
   "metadata": {},
   "source": [
    "##### 미션 3  \n",
    "Todo: 변수 a에 저장된 값의 b자리 값을 계산하여 변수 c에 저장하는 코드를 설계하라  \n",
    "#예를 들어 a에 1234가 저장되어 있고 b가 1일 경우 첫 번째 자리값인 4가 c에 저장된다.  \n",
    "#a가 1234일때 b가 4일 경우는 4번째 자리값인 1이 c에 저장되어야 한다. "
   ]
  },
  {
   "cell_type": "code",
   "execution_count": 51,
   "metadata": {},
   "outputs": [
    {
     "name": "stdout",
     "output_type": "stream",
     "text": [
      "4\n"
     ]
    }
   ],
   "source": [
    "a = 1234 \n",
    "b = 1\n",
    "d = (a%10**b)//10**(b-1)\n",
    "\n",
    "print(d)"
   ]
  },
  {
   "cell_type": "markdown",
   "metadata": {},
   "source": [
    "##### 비교 연산자"
   ]
  },
  {
   "cell_type": "code",
   "execution_count": 52,
   "metadata": {},
   "outputs": [
    {
     "name": "stdout",
     "output_type": "stream",
     "text": [
      "False\n",
      "True\n",
      "False\n",
      "True\n"
     ]
    }
   ],
   "source": [
    "print(5==2)\n",
    "print(5!=2)\n",
    "print(5<2)\n",
    "print(5>2)"
   ]
  },
  {
   "cell_type": "markdown",
   "metadata": {},
   "source": [
    "##### 논리 연산자\n",
    "\n",
    "and　　　논리곱　　　　 A and B   \n",
    "or　　　&nbsp;&nbsp;논리합　　　　 &nbsp;A or B   \n",
    "not　　　논리 부정　　　not A   "
   ]
  },
  {
   "cell_type": "code",
   "execution_count": 53,
   "metadata": {},
   "outputs": [
    {
     "name": "stdout",
     "output_type": "stream",
     "text": [
      "True\n",
      "True\n",
      "False\n"
     ]
    }
   ],
   "source": [
    "print((3<5) and (3>0))\n",
    "print((4<7) or (5>8))\n",
    "print(not(5<9))"
   ]
  },
  {
   "cell_type": "markdown",
   "metadata": {},
   "source": [
    "### 사용자입력"
   ]
  },
  {
   "cell_type": "code",
   "execution_count": 54,
   "metadata": {},
   "outputs": [
    {
     "name": "stdout",
     "output_type": "stream",
     "text": [
      "Your name is name\n"
     ]
    }
   ],
   "source": [
    "name = input(\"What is your name\")\n",
    "\n",
    "print(\"Your name is\", name)"
   ]
  },
  {
   "cell_type": "markdown",
   "metadata": {},
   "source": [
    "#### 미션1  \n",
    "사용자로부터 두개의 정수를 입력 받아서 덧셈 출력하기"
   ]
  },
  {
   "cell_type": "code",
   "execution_count": null,
   "metadata": {},
   "outputs": [
    {
     "name": "stdout",
     "output_type": "stream",
     "text": [
      "10 + 7 = 17\n"
     ]
    }
   ],
   "source": [
    "a = int(input(\"첫번째 숫자 입력\"))\n",
    "b = int(input(\"두번쨰 숫자 입력\"))\n",
    "\n",
    "print(a, \"+\", b, \"=\", a+b)"
   ]
  },
  {
   "cell_type": "markdown",
   "metadata": {},
   "source": [
    "#### 미션2  \n",
    "삼각형의 넓이 구하기  \n",
    "사용자에게 삼각형의 밑변과 높이를 입력 받아 삼각형의 넓이 출력하기"
   ]
  },
  {
   "cell_type": "code",
   "execution_count": null,
   "metadata": {},
   "outputs": [
    {
     "name": "stdout",
     "output_type": "stream",
     "text": [
      "입력받은 밑변: 3.0\n",
      "입력받은 높이: 4.0\n",
      "삼각형의 넓이는 6.0 입니다\n"
     ]
    }
   ],
   "source": [
    "a = float(input(\"삼각형의 밑변 입력\"))\n",
    "b = float(input(\"삼각형의 높이\"))\n",
    "\n",
    "print(\"입력받은 밑변:\", a)\n",
    "print(\"입력받은 높이:\", b)\n",
    "print(\"삼각형의 넓이는\", a*b/2,\"입니다\")"
   ]
  },
  {
   "cell_type": "markdown",
   "metadata": {},
   "source": [
    "#### 미션3   \n",
    "분식 주문 프로그램  \n",
    "메뉴판은 아래와 같다. \n",
    "\n",
    "[메뉴판]  \n",
    "김   밥  : 3,000원  \n",
    "떡볶이 : 3,500원  \n",
    "라    면 : 2,500원  \n",
    "\n",
    "메뉴별 주문 개수를 입력 받아 지불할 금액을 자동으로 계산해주는 프로그램을 작성하시오. "
   ]
  },
  {
   "cell_type": "code",
   "execution_count": null,
   "metadata": {},
   "outputs": [
    {
     "name": "stdout",
     "output_type": "stream",
     "text": [
      "김밥주문갯수: 3\n",
      "떡볶이주문갯수: 5\n",
      "라면주문갯수: 2\n",
      "지불하실 금액은 31500 입니다\n"
     ]
    }
   ],
   "source": [
    "a = int(input(\"김밥(3,000원)을 몇 개 주문하시겠습니까?\"))\n",
    "b = int(input(\"떡볶이(3,500원)를 몇 개 주문하시겠습니까?\"))\n",
    "c = int(input(\"라면(2,500원)을 몇 개 주문하시겠습니까?\"))\n",
    "total = a*3000 + b*3500 + c*2500\n",
    "\n",
    "print(\"김밥주문갯수:\", a)\n",
    "print(\"떡볶이주문갯수:\", b)\n",
    "print(\"라면주문갯수:\", c)\n",
    "print(\"지불하실 금액은\",total,\"입니다\")"
   ]
  },
  {
   "cell_type": "markdown",
   "metadata": {},
   "source": [
    "#### fString 사용해보기"
   ]
  },
  {
   "cell_type": "code",
   "execution_count": 58,
   "metadata": {},
   "outputs": [
    {
     "name": "stdout",
     "output_type": "stream",
     "text": [
      " 3.33 *  2.342 =  7.81\n"
     ]
    }
   ],
   "source": [
    "a = float(input(\"첫 번째 값 입력:\"))\n",
    "b = float(input(\"두 번째 값 입력:\"))\n",
    "\n",
    "print(f'{a: .2f} * {b: .3f} = {a*b: ,.2f}')"
   ]
  },
  {
   "cell_type": "markdown",
   "metadata": {},
   "source": [
    "#### 반지름 입력받기"
   ]
  },
  {
   "cell_type": "code",
   "execution_count": 59,
   "metadata": {},
   "outputs": [
    {
     "name": "stdout",
     "output_type": "stream",
     "text": [
      "반지름 입력(cm):  30.0\n",
      "\n",
      "반지름 : 30.0 cm\n",
      "원의 둘레 : 188.4 cm\n",
      "원의 넓이 : 2,826.0 ㎠\n",
      "\n",
      "반지름 : 30.0 cm\n",
      "원의 둘레 : 188.4 cm\n",
      "원의 넓이 : 2,826.0 ㎠\n"
     ]
    }
   ],
   "source": [
    "r = float(input(\"반지름 입력(cm): \"))\n",
    "pi = 3.14\n",
    "\n",
    "print(\"반지름 입력(cm): \", r)\n",
    "print(\"\\n반지름 :\", f'{r:.1f}',\"cm\")\n",
    "print(\"원의 둘레 :\", f'{pi*r*2:.1f}' ,\"cm\")\n",
    "print(\"원의 넓이 :\", f'{pi*r**2:,.1f}',\"㎠\")\n",
    "\n",
    "print(f'\\n반지름 : {r:.1f} cm')\n",
    "print(f'원의 둘레 : {pi*r*2:.1f} cm')\n",
    "print(f\"원의 넓이 : {pi*r**2:,.1f} ㎠\")"
   ]
  },
  {
   "cell_type": "markdown",
   "metadata": {},
   "source": [
    "### 조건문"
   ]
  },
  {
   "cell_type": "code",
   "execution_count": 60,
   "metadata": {},
   "outputs": [
    {
     "name": "stdout",
     "output_type": "stream",
     "text": [
      "뭔가 먹기\n"
     ]
    }
   ],
   "source": [
    "money = 10-11\n",
    "\n",
    "if money:\n",
    "    print(\"뭔가 먹기\")\n",
    "else:\n",
    "    print(\"누가 사줌\")\n",
    "\n"
   ]
  },
  {
   "cell_type": "code",
   "execution_count": 61,
   "metadata": {},
   "outputs": [
    {
     "name": "stdout",
     "output_type": "stream",
     "text": [
      "7 은 홀수입니다.\n"
     ]
    }
   ],
   "source": [
    "num = int(input('숫자를 입력하세요: '))\n",
    "\n",
    "if num%2:\n",
    "    print(num, \"은 홀수입니다.\")\n",
    "else:\n",
    "    print(num, \"은 짝수입니다.\")\n"
   ]
  },
  {
   "cell_type": "code",
   "execution_count": 62,
   "metadata": {},
   "outputs": [
    {
     "name": "stdout",
     "output_type": "stream",
     "text": [
      "점수:  80\n",
      "B\n"
     ]
    }
   ],
   "source": [
    "score = int(input(\"점수를 입력해주세요: \"))\n",
    "\n",
    "print(\"점수: \", score)\n",
    "\n",
    "if 90 <= score:\n",
    "    print(\"A\")\n",
    "elif 80 <= score:\n",
    "    print(\"B\")\n",
    "elif 70 <= score:\n",
    "    print(\"C\")\n",
    "elif 60 <= score:\n",
    "    print(\"D\")\n",
    "else:\n",
    "    print(\"F\")"
   ]
  },
  {
   "cell_type": "markdown",
   "metadata": {},
   "source": [
    "#### 미션1   \n",
    "출생연도를 입력받아 마스크 구매 가능한 요일 출력하기"
   ]
  },
  {
   "cell_type": "code",
   "execution_count": 63,
   "metadata": {},
   "outputs": [
    {
     "name": "stdout",
     "output_type": "stream",
     "text": [
      "출생연도:  1956\n",
      "나이:  69\n",
      "65세 이상은 언제든지 구매하실 수 있습니다.\n"
     ]
    }
   ],
   "source": [
    "year = input(\"출생연도를 입력하세요:\")\n",
    "age = 2024-int(year)+1\n",
    "\n",
    "year1 = int(year[-1])\n",
    "\n",
    "print(\"출생연도: \", year)\n",
    "print(\"나이: \", age)\n",
    "\n",
    "if age < 65:\n",
    "    if year1 == 1 or year1 ==6:\n",
    "        print(\"월요일\")\n",
    "    elif year1 == 2 or year1 ==7:\n",
    "        print(\"화요일\")\n",
    "    elif year1 == 3 or year1 == 8 :\n",
    "        print(\"수요일\")\n",
    "    elif year1 == 4 or year1 == 9 :\n",
    "        print(\"목요일\")\n",
    "    elif year1 == 5 or year1 == 0 :\n",
    "        print(\"금요일\")\n",
    "else:\n",
    "    print(\"65세 이상은 언제든지 구매하실 수 있습니다.\")\n"
   ]
  },
  {
   "cell_type": "markdown",
   "metadata": {},
   "source": [
    "#### 미션2   \n",
    "키와 몸무게를 입력받아 BMI 지수 출력하기"
   ]
  },
  {
   "cell_type": "code",
   "execution_count": 64,
   "metadata": {},
   "outputs": [
    {
     "name": "stdout",
     "output_type": "stream",
     "text": [
      "키: 150 cm\n",
      "몸무게: 45 kg\n",
      "BMI 지수는 \"20.00\"로 \"정상체중\"입니다.\n"
     ]
    }
   ],
   "source": [
    "height = float(input(\"키를 입력해주세요(cm): \"))\n",
    "weight = float(input(\"몸무게를 입력해주세요(kg): \"))\n",
    "\n",
    "height2 = height*0.01\n",
    "bmi = weight / (height2*height2)\n",
    "\n",
    "print(f\"키: {height:.0f} cm\")\n",
    "print(f\"몸무게: {weight:.0f} kg\")\n",
    "\n",
    "if 25 <= bmi:\n",
    "    print(f\"BMI 지수는 \\\"{bmi:.2f}\\\"로 \\\"비만\\\"입니다.\")\n",
    "elif 23 <= bmi:\n",
    "    print(f\"BMI 지수는 \\\"{bmi:.2f}\\\"로 \\\"과체중\\\"입니다.\")\n",
    "elif 18.5 <= bmi:\n",
    "    print(f\"BMI 지수는 \\\"{bmi:.2f}\\\"로 \\\"정상체중\\\"입니다.\")\n",
    "else:\n",
    "    print(f\"BMI 지수는 \\\"{bmi:.2f}\\\"로 \\\"저체중\\\"입니다.\")\n"
   ]
  },
  {
   "cell_type": "markdown",
   "metadata": {},
   "source": [
    "#### 미션3   \n",
    "날짜와 차량번호를 입력받아 자동차 운행여부 출력하기   \n",
    "조건:  \n",
    "짝수 날에 짝수번호 차량이, 홀수 날에 홀수번호 차량이 운행한다."
   ]
  },
  {
   "cell_type": "code",
   "execution_count": 65,
   "metadata": {},
   "outputs": [
    {
     "name": "stdout",
     "output_type": "stream",
     "text": [
      "오늘은 몇 일?(입력: 1 ~ 31):  6\n",
      "차량번호 4자리 입력?(예: 1234) :  4923\n",
      "날짜가 맞지않습니다. 운행할 수 없습니다.\n"
     ]
    }
   ],
   "source": [
    "day = int(input(\"오늘은 몇 일?(입력: 1 ~ 31): \"))\n",
    "\n",
    "if day > 31 :\n",
    "    print(\"일(day) 입력 오류입니다.\")\n",
    "else:\n",
    "    \n",
    "    carNum = input(\"차량번호 4자리 입력?(예: 1234) : \")\n",
    "\n",
    "    if len(carNum) != 4:\n",
    "        print(\"차량번호 입력 오류입니다.\")\n",
    "    else:\n",
    "        print(\"오늘은 몇 일?(입력: 1 ~ 31): \", day)\n",
    "        print(\"차량번호 4자리 입력?(예: 1234) : \", carNum)\n",
    "\n",
    "        if (day%2 or int(carNum)%2) == False:\n",
    "            print(\"짝수 차량 운행날입니다. \\n운행가능합니다.\")\n",
    "        elif (day%2 and int(carNum)%2) == True:\n",
    "            print(\"홀수 차량 운행날입니다. \\n운행가능합니다.\")\n",
    "        else:\n",
    "            print(\"날짜가 맞지않습니다. 운행할 수 없습니다.\")"
   ]
  }
 ],
 "metadata": {
  "kernelspec": {
   "display_name": "Python 3",
   "language": "python",
   "name": "python3"
  },
  "language_info": {
   "codemirror_mode": {
    "name": "ipython",
    "version": 3
   },
   "file_extension": ".py",
   "mimetype": "text/x-python",
   "name": "python",
   "nbconvert_exporter": "python",
   "pygments_lexer": "ipython3",
   "version": "3.11.9"
  }
 },
 "nbformat": 4,
 "nbformat_minor": 2
}
