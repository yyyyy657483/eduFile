{
 "cells": [
  {
   "cell_type": "markdown",
   "metadata": {},
   "source": [
    "# 2024.12.23\n"
   ]
  },
  {
   "cell_type": "markdown",
   "metadata": {},
   "source": [
    "### 떠올리기"
   ]
  },
  {
   "cell_type": "markdown",
   "metadata": {},
   "source": [
    "#### 구구단 출력"
   ]
  },
  {
   "cell_type": "code",
   "execution_count": null,
   "metadata": {},
   "outputs": [
    {
     "name": "stdout",
     "output_type": "stream",
     "text": [
      "1 2 3 4 5 6 7 8 9 \n",
      "2 4 6 8 10 12 14 16 18 \n",
      "3 6 9 12 15 18 21 24 27 \n",
      "4 8 12 16 20 24 28 32 36 \n",
      "5 10 15 20 25 30 35 40 45 \n",
      "6 12 18 24 30 36 42 48 54 \n",
      "7 14 21 28 35 42 49 56 63 \n",
      "8 16 24 32 40 48 56 64 72 \n",
      "9 18 27 36 45 54 63 72 81 \n"
     ]
    }
   ],
   "source": [
    "i = 0\n",
    "\n",
    "for i in range(1, 10):\n",
    "    for j in range(1, 10) :\n",
    "    # if 2*i)%2 == 0 :\n",
    "        print(j * i, end = ' ')\n",
    "    print(\"\")"
   ]
  },
  {
   "cell_type": "markdown",
   "metadata": {},
   "source": [
    "#### 떠올리기 - 자판기 동작 만들어보기\n",
    "\n",
    "커피의 처음 갯수는 10개 입니다.  \n",
    "사용자로 부터 돈을 입력 받습니다.  \n",
    "만약 입력 금액이 300원이면 커피를 주고 커피의 갯수를 1개 감소시킵니다.  \n",
    "만약 입력 금액이 300초과이면 커피를 주고 커피의 개수를 1개 감소시킨 뒤 거스름돈을 줍니다.  \n",
    "그렇지 않으면(입력 금액이 300미만이면)   "
   ]
  },
  {
   "cell_type": "code",
   "execution_count": 1,
   "metadata": {},
   "outputs": [
    {
     "name": "stdout",
     "output_type": "stream",
     "text": [
      "\n",
      "현재 판매중인 커피:  3\n",
      "돈을 넣어주세요.:  300\n",
      "커피가 나옵니다.\n",
      "\n",
      "현재 판매중인 커피:  2\n",
      "돈을 넣어주세요.:  600\n",
      "커피가 나옵니다.\n",
      "거스름 돈:  300\n",
      "\n",
      "현재 판매중인 커피:  1\n",
      "돈을 넣어주세요.:  100\n",
      "돈이 적습니다. \n",
      "남은 커피 양:  1\n",
      "\n",
      "현재 판매중인 커피:  1\n",
      "돈을 넣어주세요.:  300\n",
      "커피가 나옵니다.\n",
      "\n",
      "현재 판매중인 커피:  0\n",
      "재고가 없습니다. 운영을 종료합니다.\n"
     ]
    }
   ],
   "source": [
    "coffeeStock = 10\n",
    "coffeeCost = 300\n",
    "money = 0\n",
    "\n",
    "while True:\n",
    "\n",
    "    print(\"\\n현재 판매중인 커피: \", coffeeStock)\n",
    "    if coffeeStock <= 0:\n",
    "        print(\">>재고가 없습니다.<<\\n운영을 종료합니다.\")\n",
    "        break\n",
    "    \n",
    "    money = int(input(\"돈을 넣어주세요: \"))\n",
    "    print(\"돈을 넣어주세요.: \", money)\n",
    "\n",
    "    if money == coffeeCost : \n",
    "        coffeeStock -= 1\n",
    "        print(\"커피가 나옵니다.\")\n",
    "    elif money > coffeeCost : \n",
    "        coffeeStock -= 1\n",
    "        print(\"커피가 나옵니다.\")\n",
    "        print(\"거스름 돈: \", money-coffeeCost)\n",
    "    else:\n",
    "        print(\">>돈이 적습니다.<<\\n남은 커피 양: \", coffeeStock)\n",
    "\n"
   ]
  },
  {
   "cell_type": "markdown",
   "metadata": {},
   "source": [
    "### 딕셔너리(dictionary)"
   ]
  },
  {
   "cell_type": "code",
   "execution_count": 16,
   "metadata": {},
   "outputs": [
    {
     "name": "stdout",
     "output_type": "stream",
     "text": [
      "2000\n",
      "['김밥', '라면', '돈까스', '떡볶이']\n",
      "dict_values([2000, 3000, 5000, 3000])\n",
      "dict_items([('김밥', 2000), ('라면', 3000), ('돈까스', 5000), ('떡볶이', 3000)])\n",
      "김밥\n",
      "라면\n",
      "돈까스\n",
      "떡볶이\n",
      "2000\n",
      "3000\n",
      "5000\n",
      "3000\n",
      "('김밥', 2000)\n",
      "('라면', 3000)\n",
      "('돈까스', 5000)\n",
      "('떡볶이', 3000)\n"
     ]
    }
   ],
   "source": [
    "menu = {'김밥':2000, '라면':3000, '돈까스':5000}\n",
    "\n",
    "print(menu['김밥'])\n",
    "menu['떡볶이'] = 3000\n",
    "\n",
    "print(list(menu.keys())) # list로 형 변환\n",
    "print(menu.values())\n",
    "print(menu.items())\n",
    "\n",
    "for oneMenu in menu.keys():\n",
    "    print(oneMenu)\n",
    "\n",
    "for oneMenu in menu.values():\n",
    "    print(oneMenu)\n",
    "\n",
    "for oneMenu in menu.items():\n",
    "    print(oneMenu)"
   ]
  },
  {
   "cell_type": "code",
   "execution_count": 25,
   "metadata": {},
   "outputs": [
    {
     "name": "stdout",
     "output_type": "stream",
     "text": [
      "{'라면': 3000, '돈까스': 5000}\n",
      "{'라면': 3000}\n",
      "라면 3000\n"
     ]
    }
   ],
   "source": [
    "menu = {'김밥':2000, '라면':3000, '돈까스':5000}\n",
    "\n",
    "menu.pop('김밥')\n",
    "\n",
    "print(menu)\n",
    "\n",
    "menu.popitem()\n",
    "print(menu)\n",
    "\n",
    "for key, value in menu.items():\n",
    "    print(key, value)"
   ]
  },
  {
   "cell_type": "markdown",
   "metadata": {},
   "source": [
    "#### to-do 리스트 만들기 "
   ]
  },
  {
   "cell_type": "code",
   "execution_count": null,
   "metadata": {},
   "outputs": [
    {
     "name": "stdout",
     "output_type": "stream",
     "text": [
      "메뉴 선택(1:추가, 2:삭제, 0: 종료)? 1\n",
      "할일 내용 입력 >>  잠자기\n",
      "******************************\n",
      "1. 잠자기\n",
      "******************************\n",
      "메뉴 선택(1:추가, 2:삭제, 0: 종료)? 1\n",
      "할일 내용 입력 >>  공부\n",
      "******************************\n",
      "1. 잠자기\n",
      "2. 공부\n",
      "******************************\n",
      "메뉴 선택(1:추가, 2:삭제, 0: 종료)? 1\n",
      "할일 내용 입력 >>  산책\n",
      "******************************\n",
      "1. 잠자기\n",
      "2. 공부\n",
      "3. 산책\n",
      "******************************\n",
      "메뉴 선택(1:추가, 2:삭제, 0: 종료)? 2\n",
      "할일 내용 입력 >>  공부\n",
      "******************************\n",
      "1. 잠자기\n",
      "2. 산책\n",
      "******************************\n",
      "메뉴 선택(1:추가, 2:삭제, 0: 종료)? 0\n",
      "종료\n"
     ]
    }
   ],
   "source": [
    "todolist=[]\n",
    "menuNum = 0\n",
    "todo = \"\"\n",
    "\n",
    "while True :\n",
    "\n",
    "    menuNum = int(input(\"메뉴 선택(1:추가, 2:삭제, 0: 종료)?\"))\n",
    "    print(\"메뉴 선택(1:추가, 2:삭제, 0: 종료)?\", menuNum)\n",
    "\n",
    "    if menuNum == 0 :\n",
    "        break    \n",
    "    \n",
    "    todo = input(\"할일 내용 입력 >> \")\n",
    "    print(\"할일 내용 입력 >> \", todo)\n",
    "    print('*'*30)\n",
    "\n",
    "    if menuNum == 1 :\n",
    "        todolist.append(todo)\n",
    "    elif menuNum == 2 :\n",
    "        todolist.remove(todo)\n",
    "    \n",
    "    # index = 0\n",
    "    # for i in todolist :\n",
    "    #     index += 1\n",
    "    #     print(f'{index}. {i}')\n",
    "    for i in range(len(todolist)) :\n",
    "        print(f'{i}. {todolist[i]}')\n",
    "    print('*'*30)\n",
    "\n",
    "print(\"종료\")\n"
   ]
  },
  {
   "cell_type": "markdown",
   "metadata": {},
   "source": [
    "#### 연락처 만들기"
   ]
  },
  {
   "cell_type": "code",
   "execution_count": 1,
   "metadata": {},
   "outputs": [
    {
     "name": "stdout",
     "output_type": "stream",
     "text": [
      "\n",
      "메뉴 선택(1: 추가, 2: 검색, 3: 삭제, 0: 종료)?  2\n",
      "검색가능한 친구들:  ['최재원', '유재석', '김연수', '김우정', '김가현', '김혜현']\n",
      "친구이름 입력 >>  최재원\n",
      "최재원의 연락처: 010-1111-1234\n",
      "\n",
      "메뉴 선택(1: 추가, 2: 검색, 3: 삭제, 0: 종료)?  1\n",
      "친구 이름 입력 >>  홍길동\n",
      "전화번호 입력 >>  000-0000-0000\n",
      "\n",
      "메뉴 선택(1: 추가, 2: 검색, 3: 삭제, 0: 종료)?  3\n",
      "삭제가능한 친구들:  ['최재원', '유재석', '김연수', '김우정', '김가현', '김혜현', '홍길동']\n",
      "친구이름 입력 >>  김연수\n",
      "김연수의 연락처 010-3333-1234 삭제\n",
      "\n",
      "메뉴 선택(1: 추가, 2: 검색, 3: 삭제, 0: 종료)?  2\n",
      "검색가능한 친구들:  ['최재원', '유재석', '김우정', '김가현', '김혜현', '홍길동']\n",
      "친구이름 입력 >>  김연수\n",
      "김연수의 연락처: None\n",
      "\n",
      "메뉴 선택(1: 추가, 2: 검색, 3: 삭제, 0: 종료)?  0\n",
      "프로그램을 종료합니다!\n"
     ]
    }
   ],
   "source": [
    "addr = {'최재원': '010-1111-1234', '유재석': '010-2222-1234',\n",
    "        '김연수': '010-3333-1234', '김우정': '010-4444-1234',\n",
    "        '김가현': '010-5555-1234', '김혜현': '010-6666-1234'}\n",
    "menuNum = 0\n",
    "inputName = \"\"\n",
    "phone = \"\"\n",
    "\n",
    "while True :\n",
    "    menuNum = int(input(\"메뉴 선택(1: 추가, 2: 검색, 3: 삭제, 0: 종료)? \"))\n",
    "    print(\"\\n메뉴 선택(1: 추가, 2: 검색, 3: 삭제, 0: 종료)? \", menuNum)\n",
    "\n",
    "    if menuNum == 0 :\n",
    "        print(\"프로그램을 종료합니다!\")\n",
    "        break\n",
    "    else :\n",
    "        if menuNum == 1:\n",
    "            inputName = input(\"친구 이름 입력 >> \")\n",
    "            print(\"친구 이름 입력 >> \", inputName)\n",
    "\n",
    "            phone = input(\"전화번호 입력 >> \")\n",
    "            print(\"전화번호 입력 >> \", phone)\n",
    "            addr[inputName] = phone\n",
    "\n",
    "        elif menuNum == 2:\n",
    "            print(\"검색가능한 친구들: \", list(addr.keys()))\n",
    "            inputName = input(\"검색할 이름을 입력해주세요: \")\n",
    "            print(\"친구이름 입력 >> \", inputName)\n",
    "            print(f\"{inputName}의 연락처: {addr.get(inputName)}\")\n",
    "\n",
    "        elif menuNum == 3:\n",
    "            print(\"삭제가능한 친구들: \", list(addr.keys()))\n",
    "            inputName = input(\"검색할 이름을 입력해주세요: \")\n",
    "            print(\"친구이름 입력 >> \", inputName)\n",
    "            print(f\"{inputName}의 연락처 {addr.pop(inputName)} 삭제\")\n",
    "\n",
    "        else :\n",
    "            print(\"메뉴 선택 오류입니다. 다시 선택하세요.\")"
   ]
  },
  {
   "cell_type": "markdown",
   "metadata": {},
   "source": [
    "#### 단어 사전 만들어 검색하기"
   ]
  },
  {
   "cell_type": "code",
   "execution_count": 25,
   "metadata": {},
   "outputs": [
    {
     "name": "stdout",
     "output_type": "stream",
     "text": [
      "입력단어->'python' is: a high-level programming language\n",
      "입력단어->'apple' is: 사전에 찾는 단어가 없어요!\n",
      "입력단어->'loop' is: a seqeunce of instructions that are continually repeated\n",
      "입력단어->종료!\n"
     ]
    }
   ],
   "source": [
    "pydic = {'python':'a high-level programming language',\n",
    "         'loop': 'a seqeunce of instructions that are continually repeated'}\n",
    "inputKey = \"\"\n",
    "while 1 :\n",
    "    inputKey = input(\"입력단어->\")\n",
    "    print(\"입력단어->\", end=\"\")\n",
    "\n",
    "    if inputKey == '0' :\n",
    "        print(\"종료!\")\n",
    "        break\n",
    "\n",
    "    if pydic.get(inputKey):\n",
    "        print(f\"'{inputKey}' is: {pydic.get(inputKey)}\")\n",
    "    else:\n",
    "        print(f\"'{inputKey}' is: 사전에 찾는 단어가 없어요!\")"
   ]
  },
  {
   "cell_type": "markdown",
   "metadata": {},
   "source": [
    "#### 성적표 만들기   \n",
    "1. 학생별 평균 출력\n",
    "2. 전체 평균 출력\n",
    "3. 기준미달 학생 출력"
   ]
  },
  {
   "cell_type": "code",
   "execution_count": 10,
   "metadata": {},
   "outputs": [
    {
     "name": "stdout",
     "output_type": "stream",
     "text": [
      "Alice 평균: 89.0\n",
      "Bob 평균: 82.0\n",
      "Charlie 평균: 92.0\n",
      "전체 평균 : 87.66666666666667\n",
      "['Alice', 'Charlie']\n"
     ]
    }
   ],
   "source": [
    "student = [{'name':'Alice','score':[90,85,92]},\n",
    "           {'name':'Bob','score':[78,80,88]},\n",
    "           {'name':'Charlie','score':[95,92,89]}]\n",
    "student2 =[]\n",
    "\n",
    "totalAvg = 0\n",
    "cur = 90\n",
    "index = 0\n",
    "\n",
    "for i in student:\n",
    "    name = i.get('name')\n",
    "    avg = sum(i.get('score')) / len(i.get('score'))\n",
    "    totalAvg += avg\n",
    "    print(f'{name} 평균: {avg}')\n",
    "\n",
    "    if any(cur < j for j in i.get('score')):\n",
    "        student2.append(name)\n",
    "\n",
    "totalAvg = totalAvg / len(student)\n",
    "print(f'전체 평균 : {totalAvg}')\n",
    "print(student2)"
   ]
  },
  {
   "cell_type": "markdown",
   "metadata": {},
   "source": [
    "### 튜플"
   ]
  },
  {
   "cell_type": "code",
   "execution_count": 15,
   "metadata": {},
   "outputs": [
    {
     "name": "stdout",
     "output_type": "stream",
     "text": [
      "<class 'tuple'>\n",
      "<class 'tuple'>\n",
      "<class 'tuple'>\n"
     ]
    }
   ],
   "source": [
    "t1 = ()\n",
    "t2 = 1, 2, 3\n",
    "t3 = (1,)\n",
    "\n",
    "print(type(t1))\n",
    "print(type(t2))\n",
    "print(type(t3))"
   ]
  },
  {
   "cell_type": "markdown",
   "metadata": {},
   "source": [
    "### 시퀀스 자료형"
   ]
  },
  {
   "cell_type": "code",
   "execution_count": 27,
   "metadata": {},
   "outputs": [
    {
     "name": "stdout",
     "output_type": "stream",
     "text": [
      "좋아하는 과일은? 사과\n",
      "정답입니다.\n"
     ]
    }
   ],
   "source": [
    "fruits = [\"사과\", \"포도\", \"홍시\"]\n",
    "\n",
    "print(\"좋아하는 과일은? \", end=\"\")\n",
    "f = input(\"좋아하는 과일은? : \")\n",
    "print(f)\n",
    "\n",
    "if f in fruits :\n",
    "    print(\"정답입니다.\")\n",
    "else :\n",
    "    print(\"오답입니다.\")\n"
   ]
  },
  {
   "cell_type": "markdown",
   "metadata": {},
   "source": [
    "### 함수"
   ]
  },
  {
   "cell_type": "markdown",
   "metadata": {},
   "source": [
    "#### 내장함수"
   ]
  },
  {
   "cell_type": "code",
   "execution_count": 29,
   "metadata": {},
   "outputs": [
    {
     "name": "stdout",
     "output_type": "stream",
     "text": [
      "ArithmeticError\n",
      "AssertionError\n",
      "AttributeError\n",
      "BaseException\n",
      "BaseExceptionGroup\n",
      "BlockingIOError\n",
      "BrokenPipeError\n",
      "BufferError\n",
      "BytesWarning\n",
      "ChildProcessError\n",
      "ConnectionAbortedError\n",
      "ConnectionError\n",
      "ConnectionRefusedError\n",
      "ConnectionResetError\n",
      "DeprecationWarning\n",
      "EOFError\n",
      "Ellipsis\n",
      "EncodingWarning\n",
      "EnvironmentError\n",
      "Exception\n",
      "ExceptionGroup\n",
      "False\n",
      "FileExistsError\n",
      "FileNotFoundError\n",
      "FloatingPointError\n",
      "FutureWarning\n",
      "GeneratorExit\n",
      "IOError\n",
      "ImportError\n",
      "ImportWarning\n",
      "IndentationError\n",
      "IndexError\n",
      "InterruptedError\n",
      "IsADirectoryError\n",
      "KeyError\n",
      "KeyboardInterrupt\n",
      "LookupError\n",
      "MemoryError\n",
      "ModuleNotFoundError\n",
      "NameError\n",
      "None\n",
      "NotADirectoryError\n",
      "NotImplemented\n",
      "NotImplementedError\n",
      "OSError\n",
      "OverflowError\n",
      "PendingDeprecationWarning\n",
      "PermissionError\n",
      "ProcessLookupError\n",
      "RecursionError\n",
      "ReferenceError\n",
      "ResourceWarning\n",
      "RuntimeError\n",
      "RuntimeWarning\n",
      "StopAsyncIteration\n",
      "StopIteration\n",
      "SyntaxError\n",
      "SyntaxWarning\n",
      "SystemError\n",
      "SystemExit\n",
      "TabError\n",
      "TimeoutError\n",
      "True\n",
      "TypeError\n",
      "UnboundLocalError\n",
      "UnicodeDecodeError\n",
      "UnicodeEncodeError\n",
      "UnicodeError\n",
      "UnicodeTranslateError\n",
      "UnicodeWarning\n",
      "UserWarning\n",
      "ValueError\n",
      "Warning\n",
      "WindowsError\n",
      "ZeroDivisionError\n",
      "__IPYTHON__\n",
      "__build_class__\n",
      "__debug__\n",
      "__doc__\n",
      "__import__\n",
      "__loader__\n",
      "__name__\n",
      "__package__\n",
      "__spec__\n",
      "abs\n",
      "aiter\n",
      "all\n",
      "anext\n",
      "any\n",
      "ascii\n",
      "bin\n",
      "bool\n",
      "breakpoint\n",
      "bytearray\n",
      "bytes\n",
      "callable\n",
      "chr\n",
      "classmethod\n",
      "compile\n",
      "complex\n",
      "copyright\n",
      "credits\n",
      "delattr\n",
      "dict\n",
      "dir\n",
      "display\n",
      "divmod\n",
      "enumerate\n",
      "eval\n",
      "exec\n",
      "execfile\n",
      "filter\n",
      "float\n",
      "format\n",
      "frozenset\n",
      "get_ipython\n",
      "getattr\n",
      "globals\n",
      "hasattr\n",
      "hash\n",
      "help\n",
      "hex\n",
      "id\n",
      "input\n",
      "int\n",
      "isinstance\n",
      "issubclass\n",
      "iter\n",
      "len\n",
      "license\n",
      "list\n",
      "locals\n",
      "map\n",
      "max\n",
      "memoryview\n",
      "min\n",
      "next\n",
      "object\n",
      "oct\n",
      "open\n",
      "ord\n",
      "pow\n",
      "print\n",
      "property\n",
      "range\n",
      "repr\n",
      "reversed\n",
      "round\n",
      "runfile\n",
      "set\n",
      "setattr\n",
      "slice\n",
      "sorted\n",
      "staticmethod\n",
      "str\n",
      "sum\n",
      "super\n",
      "tuple\n",
      "type\n",
      "vars\n",
      "zip\n"
     ]
    }
   ],
   "source": [
    "for i in dir(__builtins__):\n",
    "    print(i)"
   ]
  },
  {
   "cell_type": "markdown",
   "metadata": {},
   "source": [
    "#### 함수 만들기"
   ]
  },
  {
   "cell_type": "code",
   "execution_count": 30,
   "metadata": {},
   "outputs": [
    {
     "name": "stdout",
     "output_type": "stream",
     "text": [
      "Hi\n"
     ]
    }
   ],
   "source": [
    "def Hi() :\n",
    "    print(\"Hi\")\n",
    "\n",
    "Hi()"
   ]
  },
  {
   "cell_type": "code",
   "execution_count": 31,
   "metadata": {},
   "outputs": [
    {
     "name": "stdout",
     "output_type": "stream",
     "text": [
      "길동아 Hi\n"
     ]
    }
   ],
   "source": [
    "def NameHi(name) :\n",
    "    print(f\"{name} Hi\")\n",
    "\n",
    "NameHi(\"길동아\")"
   ]
  },
  {
   "cell_type": "code",
   "execution_count": 32,
   "metadata": {},
   "outputs": [
    {
     "name": "stdout",
     "output_type": "stream",
     "text": [
      "7\n"
     ]
    }
   ],
   "source": [
    "def add(a, b):\n",
    "    return a + b\n",
    "\n",
    "add_num = add(3, 4)\n",
    "print(add_num)"
   ]
  },
  {
   "cell_type": "code",
   "execution_count": 43,
   "metadata": {},
   "outputs": [
    {
     "name": "stdout",
     "output_type": "stream",
     "text": [
      "12\n"
     ]
    }
   ],
   "source": [
    "def num_max(a, b, c) :\n",
    "    reMax = 0\n",
    "\n",
    "    if a > b :\n",
    "        reMax = a\n",
    "    else:\n",
    "        reMax = b\n",
    "\n",
    "    if reMax > c :\n",
    "        reMax = reMax\n",
    "    else:\n",
    "        reMax = c\n",
    "\n",
    "    return reMax\n",
    "\n",
    "\n",
    "num = num_max( 10, 12, 7)\n",
    "print(num)"
   ]
  },
  {
   "cell_type": "code",
   "execution_count": 42,
   "metadata": {},
   "outputs": [
    {
     "name": "stdout",
     "output_type": "stream",
     "text": [
      "12\n"
     ]
    }
   ],
   "source": [
    "def num_max2(a, b, c) :\n",
    "    reMax = a\n",
    "\n",
    "    if reMax < b :\n",
    "        reMax = b\n",
    "\n",
    "    if reMax < c :\n",
    "        reMax = c\n",
    "\n",
    "    return reMax\n",
    "\n",
    "print(num_max2(10, 12, 7))"
   ]
  },
  {
   "cell_type": "code",
   "execution_count": 46,
   "metadata": {},
   "outputs": [
    {
     "data": {
      "text/plain": [
       "24"
      ]
     },
     "execution_count": 46,
     "metadata": {},
     "output_type": "execute_result"
    }
   ],
   "source": [
    "def num_min(array):\n",
    "    min = array[0]\n",
    "\n",
    "    for i in array:        \n",
    "        if min > i :\n",
    "            min = i\n",
    "\n",
    "    return min\n",
    "\n",
    "testArray = [52, 273, 32, 103, 275, 24, 57]\n",
    "num_min(testArray)"
   ]
  },
  {
   "cell_type": "code",
   "execution_count": 48,
   "metadata": {},
   "outputs": [
    {
     "name": "stdout",
     "output_type": "stream",
     "text": [
      "2\n",
      "10\n",
      "12\n"
     ]
    }
   ],
   "source": [
    "def print_even(my_list):\n",
    "\n",
    "    for i in my_list:\n",
    "        if not(i%2) :\n",
    "            print(i)\n",
    "\n",
    "print_even([1,3,2,10,12,11,15])"
   ]
  },
  {
   "cell_type": "markdown",
   "metadata": {},
   "source": [
    "#### 윤년 출력하기  \n",
    "1. 4로 나누어 떨어지는해\n",
    "2. 100으로 나누어떨어지는 해는 윤년이 아님\n",
    "3. 400으로 나누어 떨어지는 해는 윤년 "
   ]
  },
  {
   "cell_type": "code",
   "execution_count": null,
   "metadata": {},
   "outputs": [
    {
     "name": "stdout",
     "output_type": "stream",
     "text": [
      "2022년은 윤년일까? False\n",
      "2010년은 윤년일까? False\n",
      "2000년은 윤년일까? True\n",
      "1900년은 윤년일까? False\n"
     ]
    }
   ],
   "source": [
    "def isLeapYear(year):\n",
    "    if not(year%400):\n",
    "        return True\n",
    "    \n",
    "    if not(year%100):\n",
    "        return False\n",
    "    \n",
    "    if not(year%4):\n",
    "        return True\n",
    "    else:\n",
    "        return False\n",
    "\n",
    "\n",
    "print(f'2022년은 윤년일까? {isLeapYear(2022)}')\n",
    "print(f'2010년은 윤년일까? {isLeapYear(2010)}')\n",
    "print(f'2000년은 윤년일까? {isLeapYear(2000)}')\n",
    "print(f'1900년은 윤년일까? {isLeapYear(1900)}')"
   ]
  },
  {
   "cell_type": "code",
   "execution_count": 60,
   "metadata": {},
   "outputs": [
    {
     "name": "stdout",
     "output_type": "stream",
     "text": [
      "2022년은 윤년일까? False\n",
      "2010년은 윤년일까? False\n",
      "2000년은 윤년일까? True\n",
      "1900년은 윤년일까? False\n"
     ]
    }
   ],
   "source": [
    "def isLeapYear2(year):\n",
    "    # return not(year%4) and (year%100) or not(year%400)\n",
    "    return (year%4 == 0) and (year%100 != 0) or (year%400 == 0)\n",
    "\n",
    "print(f'2022년은 윤년일까? {isLeapYear2(2022)}')\n",
    "print(f'2010년은 윤년일까? {isLeapYear2(2010)}')\n",
    "print(f'2000년은 윤년일까? {isLeapYear2(2000)}')\n",
    "print(f'1900년은 윤년일까? {isLeapYear2(1900)}')"
   ]
  },
  {
   "cell_type": "markdown",
   "metadata": {},
   "source": [
    "#### 입력받은 수들의 합 구하기"
   ]
  },
  {
   "cell_type": "code",
   "execution_count": 61,
   "metadata": {},
   "outputs": [
    {
     "name": "stdout",
     "output_type": "stream",
     "text": [
      "5\n",
      "55\n"
     ]
    }
   ],
   "source": [
    "def add_many(*args):\n",
    "    result = 0\n",
    "\n",
    "    for i in args:\n",
    "        result += i\n",
    "\n",
    "    return result\n",
    "\n",
    "print(add_many(2,3))\n",
    "print(add_many(1,2,3,4,5,6,7,8,9,10))"
   ]
  },
  {
   "cell_type": "markdown",
   "metadata": {},
   "source": [
    "#### 더하기, 곱하기 함수"
   ]
  },
  {
   "cell_type": "code",
   "execution_count": 64,
   "metadata": {},
   "outputs": [
    {
     "name": "stdout",
     "output_type": "stream",
     "text": [
      "15\n",
      "6\n"
     ]
    }
   ],
   "source": [
    "# def add_mul(*args, choice='add'):\n",
    "def add_mul(choice, *args):\n",
    "    if choice == 'add':\n",
    "        result = 0\n",
    "        for i in args:\n",
    "            result += i\n",
    "    elif choice == 'mul':\n",
    "        result = 1\n",
    "        for i in args:\n",
    "            result *= i\n",
    "    \n",
    "    return result\n",
    "\n",
    "print(add_mul('add', 1,2,3,4,5))\n",
    "print(add_mul('mul', 1,2,3))"
   ]
  },
  {
   "cell_type": "markdown",
   "metadata": {},
   "source": [
    "#### 사칙연산 후 리턴받기"
   ]
  },
  {
   "cell_type": "code",
   "execution_count": 69,
   "metadata": {},
   "outputs": [
    {
     "name": "stdout",
     "output_type": "stream",
     "text": [
      "13 7 30 3\n",
      "0 0\n"
     ]
    }
   ],
   "source": [
    "def func (a, b):\n",
    "    return 10+3, 10-3, 10*3, 10//3\n",
    "\n",
    "num1, num2, num3, num4 = func(10,3)\n",
    "print(num1, num2, num3, num4)\n",
    "\n",
    "\n",
    "c, d = 0, 0\n",
    "print(c, d)"
   ]
  }
 ],
 "metadata": {
  "kernelspec": {
   "display_name": "Python 3",
   "language": "python",
   "name": "python3"
  },
  "language_info": {
   "codemirror_mode": {
    "name": "ipython",
    "version": 3
   },
   "file_extension": ".py",
   "mimetype": "text/x-python",
   "name": "python",
   "nbconvert_exporter": "python",
   "pygments_lexer": "ipython3",
   "version": "3.11.9"
  }
 },
 "nbformat": 4,
 "nbformat_minor": 2
}
