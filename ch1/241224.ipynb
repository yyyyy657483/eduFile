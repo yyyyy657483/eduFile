{
 "cells": [
  {
   "cell_type": "markdown",
   "metadata": {},
   "source": [
    "# 2024.12.24   \n",
    "사용한 모듈:   math, random"
   ]
  },
  {
   "cell_type": "code",
   "execution_count": 1,
   "metadata": {},
   "outputs": [
    {
     "name": "stdout",
     "output_type": "stream",
     "text": [
      "10 10 30 Hello 35\n"
     ]
    }
   ],
   "source": [
    "a = b = 10\n",
    "c, d = 30, 'Hello' \n",
    "e = 35\n",
    "\n",
    "print(a, b, c, d, e)"
   ]
  },
  {
   "cell_type": "code",
   "execution_count": 10,
   "metadata": {},
   "outputs": [
    {
     "name": "stdout",
     "output_type": "stream",
     "text": [
      "['닥터 스트레인지', '슈퍼맨']\n"
     ]
    }
   ],
   "source": [
    "movie_rank = [\"닥터 스트레인지\", \"스플릿\", \"럭키\"]\n",
    "\n",
    "movie_rank.append(\"배트맨\")\n",
    "movie_rank.insert(1, \"슈퍼맨\")\n",
    "movie_rank.pop(3)\n",
    "movie_rank.remove(\"스플릿\")\n",
    "movie_rank.remove(\"배트맨\")\n",
    "\n",
    "print(movie_rank)"
   ]
  },
  {
   "cell_type": "code",
   "execution_count": 11,
   "metadata": {},
   "outputs": [
    {
     "name": "stdout",
     "output_type": "stream",
     "text": [
      "apple banana cake\n"
     ]
    }
   ],
   "source": [
    "temp = ('apple', 'banana', 'cake')\n",
    "a, b, c = temp\n",
    "print(a, b, c)"
   ]
  },
  {
   "cell_type": "code",
   "execution_count": 12,
   "metadata": {},
   "outputs": [
    {
     "name": "stdout",
     "output_type": "stream",
     "text": [
      "010 1234 5678\n"
     ]
    }
   ],
   "source": [
    "phone_number = \"010-1234-5678\"\n",
    "phone_number1 = phone_number.replace(\"-\", \" \")\n",
    "print(phone_number1)"
   ]
  },
  {
   "cell_type": "code",
   "execution_count": 1,
   "metadata": {},
   "outputs": [
    {
     "name": "stdout",
     "output_type": "stream",
     "text": [
      "14\n"
     ]
    }
   ],
   "source": [
    "a, b, c = input().split()\n",
    "s = int(a) + int(b) + int(c)\n",
    "\n",
    "print(s)"
   ]
  },
  {
   "cell_type": "code",
   "execution_count": 20,
   "metadata": {},
   "outputs": [
    {
     "name": "stdout",
     "output_type": "stream",
     "text": [
      "박지민 178.5 28\n",
      "<class 'str'> <class 'float'> <class 'int'>\n",
      "name =  박지민 height =  178.5 age =  28\n"
     ]
    }
   ],
   "source": [
    "a, b, c = input().split()\n",
    "\n",
    "b = float(b)\n",
    "c = int(c)\n",
    "\n",
    "print(a, b, c)\n",
    "print(type(a), type(b), type(c))\n",
    "print('name = ', a, \"height = \", b, 'age = ', c)"
   ]
  },
  {
   "cell_type": "code",
   "execution_count": 23,
   "metadata": {},
   "outputs": [
    {
     "name": "stdout",
     "output_type": "stream",
     "text": [
      "50620\n",
      "50620\n"
     ]
    }
   ],
   "source": [
    "d = {'kim':34000, 'lee':12000, 'park':1200, 'lew':0, 'song': 3420}\n",
    "print(sum(list(d.values())))\n",
    "print(sum(d.values()))"
   ]
  },
  {
   "cell_type": "code",
   "execution_count": 27,
   "metadata": {},
   "outputs": [
    {
     "name": "stdout",
     "output_type": "stream",
     "text": [
      "['a', 'b', 'c', 'd']\n"
     ]
    }
   ],
   "source": [
    "def make_list(string):\n",
    "    print(list(string))\n",
    "\n",
    "make_list(\"abcd\")"
   ]
  },
  {
   "cell_type": "code",
   "execution_count": 3,
   "metadata": {},
   "outputs": [
    {
     "name": "stdout",
     "output_type": "stream",
     "text": [
      "4\n"
     ]
    }
   ],
   "source": [
    "def vartest(aa):\n",
    "    aa = aa+1\n",
    "    return aa\n",
    "\n",
    "a = vartest(3)\n",
    "print(a)"
   ]
  },
  {
   "cell_type": "code",
   "execution_count": 35,
   "metadata": {},
   "outputs": [
    {
     "name": "stdout",
     "output_type": "stream",
     "text": [
      "[2, 3, 4, 5, 6]\n"
     ]
    }
   ],
   "source": [
    "myList = [1,2,3,4,5]\n",
    "\n",
    "# 모든 요소 1씩 증가 시키기\n",
    "\n",
    "def add_one(n):\n",
    "    return n+1\n",
    "\n",
    "# result = []\n",
    "# for i in myList :\n",
    "#     temp = add_one(i)\n",
    "#     result.append(temp)\n",
    "\n",
    "result = list(map(add_one, myList))\n",
    "    \n",
    "print(result)"
   ]
  },
  {
   "cell_type": "code",
   "execution_count": 40,
   "metadata": {},
   "outputs": [
    {
     "name": "stdout",
     "output_type": "stream",
     "text": [
      "[3, -6, 100, 26]\n"
     ]
    }
   ],
   "source": [
    "f = (3.14, -5.625, 100.4, 25.8)\n",
    "\n",
    "def transInt(num):\n",
    "    return round(num)\n",
    "\n",
    "result = list(map(transInt, f))\n",
    "print(result)"
   ]
  },
  {
   "cell_type": "code",
   "execution_count": 43,
   "metadata": {},
   "outputs": [
    {
     "name": "stdout",
     "output_type": "stream",
     "text": [
      "[20, 60, 120, 200]\n",
      "[(10, 2), (20, 3), (30, 4), (40, 5)]\n"
     ]
    }
   ],
   "source": [
    "f = (2, 3, 4, 5)\n",
    "f2 = (10, 20, 30, 40, 50)\n",
    "\n",
    "def transInt(num1, num2):\n",
    "    return num1 * num2\n",
    "\n",
    "result = list(map(transInt, f, f2))\n",
    "print(result)\n",
    "\n",
    "print(list(zip(f2, f)))"
   ]
  },
  {
   "cell_type": "code",
   "execution_count": 46,
   "metadata": {},
   "outputs": [
    {
     "name": "stdout",
     "output_type": "stream",
     "text": [
      "[(52, 19, 0), (255, 63, 68), (39, 227, 255), (132, 197, 187)]\n"
     ]
    }
   ],
   "source": [
    "r = (52, 255, 39, 132)\n",
    "g = (19, 63, 227, 197)\n",
    "b = (0, 68, 255, 187)\n",
    "\n",
    "img = list(zip(r,g,b))\n",
    "\n",
    "print(img)"
   ]
  },
  {
   "cell_type": "code",
   "execution_count": 49,
   "metadata": {},
   "outputs": [
    {
     "name": "stdout",
     "output_type": "stream",
     "text": [
      "{1: 'apple', 2: 'orange', 3: 'banana', 4: 'mango'}\n"
     ]
    }
   ],
   "source": [
    "f = ('apple', 'orange', 'banana', 'mango')\n",
    "\n",
    "tag = dict(enumerate(f, 1))\n",
    "\n",
    "print(tag)\n",
    "# print(list(enumerate(f, 1)))"
   ]
  },
  {
   "cell_type": "code",
   "execution_count": 51,
   "metadata": {},
   "outputs": [
    {
     "name": "stdout",
     "output_type": "stream",
     "text": [
      "[8, 7, 9]\n"
     ]
    }
   ],
   "source": [
    "\n",
    "def f(x):\n",
    "    #ToDo : YOUR_CODE_HERE\n",
    "    return 6 < x and x < 10\n",
    "\n",
    "\n",
    "a = [8,3,2,10,15,7,1,9,0,11]\n",
    "#8,7,9 출력\n",
    "print(list(filter(f, a)))"
   ]
  },
  {
   "cell_type": "code",
   "execution_count": 53,
   "metadata": {},
   "outputs": [
    {
     "name": "stdout",
     "output_type": "stream",
     "text": [
      "5\n"
     ]
    },
    {
     "data": {
      "text/plain": [
       "function"
      ]
     },
     "execution_count": 53,
     "metadata": {},
     "output_type": "execute_result"
    }
   ],
   "source": [
    "# lambda x : x+1\n",
    "\n",
    "f = lambda x, y : x+y\n",
    "\n",
    "print(f(2,3))\n",
    "type(f)"
   ]
  },
  {
   "cell_type": "code",
   "execution_count": 56,
   "metadata": {},
   "outputs": [
    {
     "name": "stdout",
     "output_type": "stream",
     "text": [
      "[1, 4, 9, 16]\n"
     ]
    }
   ],
   "source": [
    "numbers = [1,2,3,4]\n",
    "squared = list(map(lambda x : x**2, numbers))\n",
    "print(squared)"
   ]
  },
  {
   "cell_type": "code",
   "execution_count": 58,
   "metadata": {},
   "outputs": [
    {
     "name": "stdout",
     "output_type": "stream",
     "text": [
      "[2, 4]\n"
     ]
    }
   ],
   "source": [
    "numbers = [1,2,3,4,5]\n",
    "even_numbers = list(filter(lambda x : not(x%2), numbers))\n",
    "print(even_numbers)"
   ]
  },
  {
   "cell_type": "code",
   "execution_count": 109,
   "metadata": {},
   "outputs": [
    {
     "name": "stdout",
     "output_type": "stream",
     "text": [
      "[(6, 1), (5, 1), (1, 2), (3, 4)]\n"
     ]
    }
   ],
   "source": [
    "points = [(1,2), (3,4), (5,1), (6,1)]\n",
    "\n",
    "sorted_points = sorted(points, key=lambda x: (x[1], -x[0]))\n",
    "\n",
    "print(sorted_points)"
   ]
  },
  {
   "cell_type": "code",
   "execution_count": 113,
   "metadata": {},
   "outputs": [
    {
     "name": "stdout",
     "output_type": "stream",
     "text": [
      "['applemint', 'banana', 'cherry', 'bam']\n",
      "['bam', 'banana', 'cherry', 'applemint']\n",
      "['applemint', 'banana', 'cherry', 'bam']\n",
      "['bam', 'banana', 'cherry', 'applemint']\n"
     ]
    }
   ],
   "source": [
    "a = ['applemint', 'banana', 'cherry', 'bam']\n",
    "\n",
    "new_a = sorted(a, key=len)\n",
    "print(a)\n",
    "print(new_a)\n",
    "\n",
    "new_a = sorted(a, key=lambda x : (x[1], x[2]))\n",
    "print(a)\n",
    "print(new_a)"
   ]
  },
  {
   "cell_type": "code",
   "execution_count": 94,
   "metadata": {},
   "outputs": [
    {
     "name": "stdout",
     "output_type": "stream",
     "text": [
      "{3: 'b', 1: 'a', 2: 'c'}\n",
      "[(1, 'a'), (3, 'b'), (2, 'c')]\n"
     ]
    }
   ],
   "source": [
    "my_dict = {3: 'b', 1: 'a', 2:'c'}\n",
    "\n",
    "new_dict = sorted(my_dict.items(), key = lambda item: item[1])\n",
    "print(my_dict)\n",
    "print(new_dict)"
   ]
  },
  {
   "cell_type": "code",
   "execution_count": 119,
   "metadata": {},
   "outputs": [
    {
     "data": {
      "text/plain": [
       "3.0"
      ]
     },
     "execution_count": 119,
     "metadata": {},
     "output_type": "execute_result"
    }
   ],
   "source": [
    "import math as m\n",
    "\n",
    "m.pow(2,3)\n",
    "m.sqrt(9)"
   ]
  },
  {
   "cell_type": "code",
   "execution_count": 118,
   "metadata": {},
   "outputs": [
    {
     "data": {
      "text/plain": [
       "32.0"
      ]
     },
     "execution_count": 118,
     "metadata": {},
     "output_type": "execute_result"
    }
   ],
   "source": [
    "from math import pow\n",
    "\n",
    "pow(2,5)"
   ]
  },
  {
   "cell_type": "code",
   "execution_count": 146,
   "metadata": {},
   "outputs": [
    {
     "name": "stdout",
     "output_type": "stream",
     "text": [
      "[27, 16, 26, 24, 19, 2]\n"
     ]
    }
   ],
   "source": [
    "import random\n",
    "\n",
    "result = []\n",
    "while len(result) < 6:\n",
    "    ranNum = random.randint(1,45)\n",
    "\n",
    "    # result 안에 없으면 append \n",
    "    if ranNum not in result : \n",
    "        result.append(ranNum)\n",
    "\n",
    "print(result)"
   ]
  },
  {
   "cell_type": "markdown",
   "metadata": {},
   "source": [
    "### 클래스"
   ]
  },
  {
   "cell_type": "code",
   "execution_count": 151,
   "metadata": {},
   "outputs": [],
   "source": [
    "class Dog :\n",
    "    species = \"Doberman\"\n",
    "\n",
    "    def __init__(self, name, age):\n",
    "        self.name = name\n",
    "        self.age = age\n",
    "\n",
    "\n",
    "    def bark(self) : \n",
    "        return f'{self.name} is barking'\n"
   ]
  },
  {
   "cell_type": "code",
   "execution_count": 153,
   "metadata": {},
   "outputs": [
    {
     "name": "stdout",
     "output_type": "stream",
     "text": [
      "Happy 3\n",
      "Happy is barking\n",
      "Max is barking\n"
     ]
    },
    {
     "data": {
      "text/plain": [
       "__main__.Dog"
      ]
     },
     "execution_count": 153,
     "metadata": {},
     "output_type": "execute_result"
    }
   ],
   "source": [
    "dog1 = Dog('Happy', 3)\n",
    "\n",
    "print(dog1.name, dog1.age)\n",
    "print(dog1.bark())\n",
    "\n",
    "dog2 = Dog(\"Max\", 5)\n",
    "print(dog2.bark())\n",
    "\n",
    "type(dog1)"
   ]
  },
  {
   "cell_type": "code",
   "execution_count": 159,
   "metadata": {},
   "outputs": [
    {
     "name": "stdout",
     "output_type": "stream",
     "text": [
      "10\n",
      "4\n",
      "21\n",
      "2.3333333333333335 \n",
      "\n",
      "6\n",
      "2\n",
      "8\n",
      "2.0\n"
     ]
    }
   ],
   "source": [
    "class FourCal:\n",
    "    def __init__(self, num1, num2):\n",
    "        self.num1 = num1\n",
    "        self.num2 = num2\n",
    "        \n",
    "    def add(self):\n",
    "        result = self.num1+self.num2\n",
    "        return result\n",
    "    def sub(self):\n",
    "        result = self.num1-self.num2\n",
    "        return result\n",
    "    def mul(self):\n",
    "        result = self.num1*self.num2\n",
    "        return result\n",
    "    def div(self):\n",
    "        result = self.num1/self.num2\n",
    "        return result\n",
    "    \n",
    "cal1 = FourCal(7,3)\n",
    "cal2 = FourCal(4,2)\n",
    "\n",
    "print(cal1.add())\n",
    "print(cal1.sub())\n",
    "print(cal1.mul())\n",
    "print(cal1.div(),\"\\n\")\n",
    "\n",
    "print(cal2.add())\n",
    "print(cal2.sub())\n",
    "print(cal2.mul())\n",
    "print(cal2.div())"
   ]
  },
  {
   "cell_type": "markdown",
   "metadata": {},
   "source": [
    "#### 상속"
   ]
  },
  {
   "cell_type": "code",
   "execution_count": 162,
   "metadata": {},
   "outputs": [
    {
     "name": "stdout",
     "output_type": "stream",
     "text": [
      "6\n",
      "16\n"
     ]
    }
   ],
   "source": [
    "class AdvancedFourCal(FourCal):\n",
    "    def pow(self):\n",
    "        return self.num1 ** self.num2\n",
    "    \n",
    "cal3 = AdvancedFourCal(4,2)\n",
    "\n",
    "print(cal3.add())\n",
    "print(cal3.pow())"
   ]
  },
  {
   "cell_type": "markdown",
   "metadata": {},
   "source": [
    "#### 오버라이딩"
   ]
  },
  {
   "cell_type": "code",
   "execution_count": 163,
   "metadata": {},
   "outputs": [
    {
     "data": {
      "text/plain": [
       "0"
      ]
     },
     "execution_count": 163,
     "metadata": {},
     "output_type": "execute_result"
    }
   ],
   "source": [
    "class SafeFourCal(FourCal):\n",
    "    def div(self):\n",
    "        if self.num2 == 0 :\n",
    "            return 0\n",
    "        else:\n",
    "            result = self.num1/self.num2\n",
    "            return result\n",
    "        \n",
    "cal4 = SafeFourCal(5,0)\n",
    "cal4.div()"
   ]
  }
 ],
 "metadata": {
  "kernelspec": {
   "display_name": "Python 3",
   "language": "python",
   "name": "python3"
  },
  "language_info": {
   "codemirror_mode": {
    "name": "ipython",
    "version": 3
   },
   "file_extension": ".py",
   "mimetype": "text/x-python",
   "name": "python",
   "nbconvert_exporter": "python",
   "pygments_lexer": "ipython3",
   "version": "3.11.9"
  }
 },
 "nbformat": 4,
 "nbformat_minor": 2
}
