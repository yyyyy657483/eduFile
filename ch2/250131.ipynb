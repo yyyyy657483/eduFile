{
 "cells": [
  {
   "cell_type": "markdown",
   "metadata": {},
   "source": [
    "# 12.01.31\n",
    "### 크롤링 실습"
   ]
  },
  {
   "cell_type": "markdown",
   "metadata": {},
   "source": [
    "# 웹드라이버 객체 생성\n",
    "- 웹드라이버 : 브라우저 조작을 위한 도구\n",
    "- selenium의 webdriver 모듈에서 Chrome 브라우저를 제어하기 위한 클래스 제공"
   ]
  },
  {
   "cell_type": "code",
   "execution_count": 1,
   "metadata": {},
   "outputs": [],
   "source": [
    "# pip show selenium"
   ]
  },
  {
   "cell_type": "code",
   "execution_count": 2,
   "metadata": {},
   "outputs": [],
   "source": [
    "# 크롬 웹드라이버 클래스 import\n",
    "from selenium.webdriver import Chrome\n",
    "\n",
    "# 크롬 웹드라이버 객체 생성\n",
    "driver = Chrome()"
   ]
  },
  {
   "cell_type": "markdown",
   "metadata": {},
   "source": [
    "# 브라우저 제어\n",
    "    - `get(URL)` : 페이지로 이동하기기\n",
    "    - `back()` : 뒤로가기\n",
    "    - `forward()` : 앞으로가기\n",
    "    - `refresh()` : 새로고침\n",
    "    - `maximize_window()` : 브라우저크기 최대화\n",
    "    - `minimize_window()` : 브라우저크기 최소화\n",
    "    - `close()` : 웹드라이버로 생성한 현재 창 종료\n",
    "    - `quit()` : 웹드라이버로 생성한 모든 창 종료"
   ]
  },
  {
   "cell_type": "code",
   "execution_count": 3,
   "metadata": {},
   "outputs": [],
   "source": [
    "# 브라우저 크기 최소화\n",
    "driver.minimize_window()\n",
    "\n",
    "# 브라우저 크기 최대화\n",
    "# driver.maximize_window()"
   ]
  },
  {
   "cell_type": "code",
   "execution_count": 4,
   "metadata": {},
   "outputs": [],
   "source": [
    "# 페이지 이동1\n",
    "driver.get(\"https://www.naver.com\")\n",
    "\n",
    "# 페이지 이동2\n",
    "driver.get(\"https://www.google.com\")\n",
    "\n",
    "# 페이지 이동3\n",
    "driver.get(\"https://www.daum.net\")"
   ]
  },
  {
   "cell_type": "code",
   "execution_count": 5,
   "metadata": {},
   "outputs": [],
   "source": [
    "# 이전 페이지로 이동\n",
    "driver.back()"
   ]
  },
  {
   "cell_type": "code",
   "execution_count": 6,
   "metadata": {},
   "outputs": [],
   "source": [
    "# 다음 페이지로 이동\n",
    "driver.forward()"
   ]
  },
  {
   "cell_type": "code",
   "execution_count": 7,
   "metadata": {},
   "outputs": [],
   "source": [
    "# 새로고침\n",
    "driver.refresh()"
   ]
  },
  {
   "cell_type": "code",
   "execution_count": 8,
   "metadata": {},
   "outputs": [],
   "source": [
    "# 웹드라이버로 생성한 모든 창 종료\n",
    "driver.quit()"
   ]
  },
  {
   "cell_type": "markdown",
   "metadata": {},
   "source": [
    "# 요소 가져오기\n",
    "    - `find_element(요소선택방법, 선택자)` : 첫번째 요소 한개만만 가져오기\n",
    "    - `find_elements(요소선택방법, 선택자)` : 요소 모두 가져오기 (리스트)"
   ]
  },
  {
   "cell_type": "code",
   "execution_count": 9,
   "metadata": {},
   "outputs": [],
   "source": [
    "# 웹페이지 열고 이동하기 (http://www.naver.com)\n",
    "from selenium.webdriver import Chrome\n",
    "\n",
    "driver = Chrome()\n",
    "driver.get(\"https://www.naver.com\")\n"
   ]
  },
  {
   "cell_type": "code",
   "execution_count": 10,
   "metadata": {},
   "outputs": [
    {
     "name": "stdout",
     "output_type": "stream",
     "text": [
      "<selenium.webdriver.remote.webelement.WebElement (session=\"dfa5026b2ba034bd179aded288494045\", element=\"f.2209DCBB66F01007582ED4BBF407229D.d.C08EA2D25DE75491EE182A32385E536A.e.5\")>\n"
     ]
    }
   ],
   "source": [
    "# 검색창 선택하기\n",
    "from selenium.webdriver.common.by import By\n",
    "\n",
    "# ID=\"query\"\n",
    "search = driver.find_element(By.CSS_SELECTOR, \"#query\")\n",
    "\n",
    "print(search)"
   ]
  },
  {
   "cell_type": "markdown",
   "metadata": {},
   "source": [
    "# 요소 제어하기\n",
    "    - `click()` : 요소 클릭\n",
    "    - `send_keys()` : 키 입력"
   ]
  },
  {
   "cell_type": "code",
   "execution_count": 11,
   "metadata": {},
   "outputs": [],
   "source": [
    "# 검색창 클릭\n",
    "search.click()"
   ]
  },
  {
   "cell_type": "code",
   "execution_count": 12,
   "metadata": {},
   "outputs": [],
   "source": [
    "# 검색어 입력\n",
    "search.send_keys(\"인공지능\\n\")"
   ]
  },
  {
   "cell_type": "code",
   "execution_count": 13,
   "metadata": {},
   "outputs": [],
   "source": [
    "# 엔터키 입력\n",
    "\n"
   ]
  },
  {
   "cell_type": "code",
   "execution_count": 14,
   "metadata": {},
   "outputs": [],
   "source": [
    "# 브라우저 닫기\n",
    "driver.quit()"
   ]
  },
  {
   "cell_type": "markdown",
   "metadata": {},
   "source": [
    "# 증권사 접속  \n"
   ]
  },
  {
   "cell_type": "markdown",
   "metadata": {},
   "source": [
    "URL: https://finance.naver.com/news/mainnews.naver"
   ]
  },
  {
   "cell_type": "code",
   "execution_count": 69,
   "metadata": {},
   "outputs": [],
   "source": [
    "\n",
    "\n"
   ]
  },
  {
   "cell_type": "code",
   "execution_count": 80,
   "metadata": {},
   "outputs": [],
   "source": [
    "# element select : \".block1\"\n",
    "from selenium.webdriver.common.by import By\n",
    "from selenium.webdriver import Chrome\n",
    "import datetime\n",
    "import time\n",
    "\n",
    "date = input(\"검색할 날짜(yyyymmdd) : \")\n",
    "if date==\"\": date = datetime.datetime.now().strftime('%Y-%m-%d')\n",
    "else: date = f'{date[:4]}-{date[4:6]}-{date[6:]}'\n",
    "\n",
    "driver = Chrome()\n",
    "\n",
    "# articles1 = driver.find_elements(By.CLASS_NAME, 'block1')\n",
    "\n",
    "# print(articles)\n",
    "# print(articles1)\n",
    "\n",
    "article_list = []\n",
    "page = 1\n",
    "\n",
    "while True:\n",
    "    url = \"https://finance.naver.com/news/mainnews.naver?date=\"+date+\"&page=\"+str(page)\n",
    "    driver.get(url)\n",
    "\n",
    "    time.sleep(2)\n",
    "\n",
    "    articles = driver.find_elements(By.CSS_SELECTOR, '.block1')\n",
    "\n",
    "    for article in articles :\n",
    "        subject = article.find_element(By.CSS_SELECTOR, '.articleSubject').text\n",
    "        link = article.find_element(By.CSS_SELECTOR, '.articleSubject>a').get_attribute('href')\n",
    "        summary = article.find_element(By.CSS_SELECTOR, '.articleSummary').text\n",
    "        press = article.find_element(By.CSS_SELECTOR, '.press').text\n",
    "        date2 = article.find_element(By.CSS_SELECTOR, '.wdate').text\n",
    "        \n",
    "        # print(len(article.find_element(By.CSS_SELECTOR, '.articleSummary')))\n",
    "        data = {\n",
    "            \"subject\" : subject,\n",
    "            \"summary\" : summary,\n",
    "            \"press\" : press,\n",
    "            \"wdate\" : date,\n",
    "            \"link\" : link\n",
    "        }\n",
    "        # display(data)\n",
    "        article_list.append(data)\n",
    "\n",
    "    try:\n",
    "        driver.find_element(By.CSS_SELECTOR,\".pgRR\")\n",
    "        page += 1\n",
    "    except:\n",
    "        break\n",
    "\n",
    "# print(article_list)\n",
    "driver.quit()"
   ]
  },
  {
   "cell_type": "code",
   "execution_count": 81,
   "metadata": {},
   "outputs": [
    {
     "name": "stdout",
     "output_type": "stream",
     "text": [
      "<class 'pandas.core.frame.DataFrame'>\n",
      "RangeIndex: 64 entries, 0 to 63\n",
      "Data columns (total 5 columns):\n",
      " #   Column   Non-Null Count  Dtype \n",
      "---  ------   --------------  ----- \n",
      " 0   subject  64 non-null     object\n",
      " 1   summary  64 non-null     object\n",
      " 2   press    64 non-null     object\n",
      " 3   wdate    64 non-null     object\n",
      " 4   link     64 non-null     object\n",
      "dtypes: object(5)\n",
      "memory usage: 2.6+ KB\n",
      "None\n"
     ]
    },
    {
     "data": {
      "text/html": [
       "<div>\n",
       "<style scoped>\n",
       "    .dataframe tbody tr th:only-of-type {\n",
       "        vertical-align: middle;\n",
       "    }\n",
       "\n",
       "    .dataframe tbody tr th {\n",
       "        vertical-align: top;\n",
       "    }\n",
       "\n",
       "    .dataframe thead th {\n",
       "        text-align: right;\n",
       "    }\n",
       "</style>\n",
       "<table border=\"1\" class=\"dataframe\">\n",
       "  <thead>\n",
       "    <tr style=\"text-align: right;\">\n",
       "      <th></th>\n",
       "      <th>subject</th>\n",
       "      <th>summary</th>\n",
       "      <th>press</th>\n",
       "      <th>wdate</th>\n",
       "      <th>link</th>\n",
       "    </tr>\n",
       "  </thead>\n",
       "  <tbody>\n",
       "    <tr>\n",
       "      <th>0</th>\n",
       "      <td>테슬라 사랑은 현재진행형…서학개미 장바구니 신상주는</td>\n",
       "      <td>해외 주식에 투자하는 개인 투자자인 이른바 ‘서학개미’의 연말연시 투심은 여전히 테...</td>\n",
       "      <td>매일경제</td>\n",
       "      <td>2025-01-25</td>\n",
       "      <td>https://n.news.naver.com/mnews/article/009/000...</td>\n",
       "    </tr>\n",
       "    <tr>\n",
       "      <th>1</th>\n",
       "      <td>예상 밖 '속도조절' 트럼프…증권가 \"일희일비 할 필요 없어\"</td>\n",
       "      <td>도널드 트럼프 미국 대통령이 지난 20일(현지시간) 취임한 후 국내 증시에서 업종별...</td>\n",
       "      <td>한국경제</td>\n",
       "      <td>2025-01-25</td>\n",
       "      <td>https://n.news.naver.com/mnews/article/015/000...</td>\n",
       "    </tr>\n",
       "    <tr>\n",
       "      <th>2</th>\n",
       "      <td>버스 대신 '자가용 타고' 공항 간다[경제기자M]</td>\n",
       "      <td>경제기자M 이승훈입니다. 이번 설연휴에는 31일 하루만 연차를 내면 장장 9일을 쉴...</td>\n",
       "      <td>MBN</td>\n",
       "      <td>2025-01-25</td>\n",
       "      <td>https://n.news.naver.com/mnews/article/057/000...</td>\n",
       "    </tr>\n",
       "    <tr>\n",
       "      <th>3</th>\n",
       "      <td>엔진서 발견된 깃털 '가창오리'로 확인…새떼 접촉도 포착</td>\n",
       "      <td>제주항공 참사 당시 사고기 양쪽 엔진 모두에서 깃털이 발견됐었죠? 유전자 분석 결과...</td>\n",
       "      <td>MBN</td>\n",
       "      <td>2025-01-25</td>\n",
       "      <td>https://n.news.naver.com/mnews/article/057/000...</td>\n",
       "    </tr>\n",
       "    <tr>\n",
       "      <th>4</th>\n",
       "      <td>설 연휴 이후 국내 증시는?…1월에 답 나와있다</td>\n",
       "      <td>2025년 국내 증시가 순조로운 출발을 보이면서 기대감을 높이고 있다. 지난해 국내...</td>\n",
       "      <td>이데일리</td>\n",
       "      <td>2025-01-25</td>\n",
       "      <td>https://n.news.naver.com/mnews/article/018/000...</td>\n",
       "    </tr>\n",
       "  </tbody>\n",
       "</table>\n",
       "</div>"
      ],
      "text/plain": [
       "                              subject  \\\n",
       "0        테슬라 사랑은 현재진행형…서학개미 장바구니 신상주는   \n",
       "1  예상 밖 '속도조절' 트럼프…증권가 \"일희일비 할 필요 없어\"   \n",
       "2         버스 대신 '자가용 타고' 공항 간다[경제기자M]   \n",
       "3     엔진서 발견된 깃털 '가창오리'로 확인…새떼 접촉도 포착   \n",
       "4          설 연휴 이후 국내 증시는?…1월에 답 나와있다   \n",
       "\n",
       "                                             summary press       wdate  \\\n",
       "0  해외 주식에 투자하는 개인 투자자인 이른바 ‘서학개미’의 연말연시 투심은 여전히 테...  매일경제  2025-01-25   \n",
       "1  도널드 트럼프 미국 대통령이 지난 20일(현지시간) 취임한 후 국내 증시에서 업종별...  한국경제  2025-01-25   \n",
       "2  경제기자M 이승훈입니다. 이번 설연휴에는 31일 하루만 연차를 내면 장장 9일을 쉴...   MBN  2025-01-25   \n",
       "3  제주항공 참사 당시 사고기 양쪽 엔진 모두에서 깃털이 발견됐었죠? 유전자 분석 결과...   MBN  2025-01-25   \n",
       "4  2025년 국내 증시가 순조로운 출발을 보이면서 기대감을 높이고 있다. 지난해 국내...  이데일리  2025-01-25   \n",
       "\n",
       "                                                link  \n",
       "0  https://n.news.naver.com/mnews/article/009/000...  \n",
       "1  https://n.news.naver.com/mnews/article/015/000...  \n",
       "2  https://n.news.naver.com/mnews/article/057/000...  \n",
       "3  https://n.news.naver.com/mnews/article/057/000...  \n",
       "4  https://n.news.naver.com/mnews/article/018/000...  "
      ]
     },
     "metadata": {},
     "output_type": "display_data"
    }
   ],
   "source": [
    "\n",
    "import pandas as pd\n",
    "# date = date\n",
    "file_name = f'네이버증권뉴스{date}.csv'\n",
    "df = pd.DataFrame(article_list)\n",
    "\n",
    "print(df.info())\n",
    "display(df.head(5))\n",
    "df.to_csv(file_name, encoding='utf-8', index=False)"
   ]
  },
  {
   "cell_type": "markdown",
   "metadata": {},
   "source": [
    "# 무한스크롤코드\n"
   ]
  },
  {
   "cell_type": "code",
   "execution_count": null,
   "metadata": {},
   "outputs": [],
   "source": [
    "from selenium import webdriver\n",
    "from selenium.webdriver.common.by import By\n",
    "from selenium.webdriver.common.keys import Keys\n",
    "import pandas as pd\n",
    "import time\n",
    "import openpyxl\n",
    "\n",
    "# 네이버 쇼핑 노트북 검색 URL 설정\n",
    "url = \"https://search.shopping.naver.com/search/all?query=노트북\"\n",
    "\n",
    "# Chrome 웹드라이버 객체 생성\n",
    "driver = webdriver.Chrome()\n",
    "driver.get(url) # 지정된 URL로 브라우저를 열어 이동\n",
    "driver.maximize_window() # 브라우저 창 최대화\n",
    "\n",
    "# 무한 스크롤\n",
    "# 페이지의 스크롤 높이 받아오기\n",
    "last_height = driver.execute_script(\"return document.body.scrollHeight\")\n",
    "\n",
    "while True:\n",
    "    # 스크롤 끝까지 내리기\n",
    "    driver.execute_script(\"window.scrollTo(0, document.body.scrollHeight)\")\n",
    "    time.sleep(1) # 페이지 로드 대기\n",
    "\n",
    "    # 현재 스크롤 위치 받아오기\n",
    "    current_height = driver.execute_script(\"return document.body.scrollHeight\")\n",
    "\n",
    "    # 마지막 스크롤 높이와 현재 스크롤 높이가 같으면 반복문 탈출\n",
    "    if last_height == current_height:\n",
    "        break\n",
    "\n",
    "    # 마지막 스크롤 높이를 현재 스크롤 높이로 업데이트\n",
    "    last_height = current_height\n",
    " "
   ]
  }
 ],
 "metadata": {
  "kernelspec": {
   "display_name": "Python 3",
   "language": "python",
   "name": "python3"
  },
  "language_info": {
   "codemirror_mode": {
    "name": "ipython",
    "version": 3
   },
   "file_extension": ".py",
   "mimetype": "text/x-python",
   "name": "python",
   "nbconvert_exporter": "python",
   "pygments_lexer": "ipython3",
   "version": "3.11.9"
  }
 },
 "nbformat": 4,
 "nbformat_minor": 2
}
